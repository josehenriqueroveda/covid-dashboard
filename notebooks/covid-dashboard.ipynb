{
 "cells": [
  {
   "cell_type": "markdown",
   "metadata": {},
   "source": [
    "![covid-header](https://raw.githubusercontent.com/josehenriqueroveda/covid-dashboard/master/img/header.jpg)"
   ]
  },
  {
   "cell_type": "markdown",
   "metadata": {},
   "source": [
    "<h1><center>What is COVID-19?</center></h1>\n",
    "\n",
    "<p><center>Coronavirus disease 2019 (COVID-19) is defined as illness caused by a novel coronavirus now called severe acute respiratory syndrome coronavirus 2 (SARS-CoV-2; formerly called 2019-nCoV).\n",
    "The virus is transmitted through direct contact with respiratory droplets of an infected person (generated through coughing and sneezing), and touching surfaces contaminated with the virus. The virus may survive on surfaces for several hours, but simple disinfectants can kill it.</center></p>"
   ]
  },
  {
   "cell_type": "markdown",
   "metadata": {},
   "source": [
    "<h1><center> What are the symptoms of novel coronavirus?</center></h1>\n",
    "\n",
    "<p><center>People with COVID-19 have had a wide range of symptoms reported – ranging from mild symptoms to severe illness. Symptoms may appear 2-14 days after exposure to the virus. People with these symptoms may have COVID-19:</center></p>\n",
    "\n",
    "<center>\n",
    " <table style=\"width:100%\">\n",
    "  <tr>\n",
    "    <td style=\"text-align:center\"> <img align=\"center\" src=\"https://raw.githubusercontent.com/josehenriqueroveda/covid-dashboard/master/img/fever.png\"\n",
    "     alt=\"Fever\" width=\"80\"\n",
    "     style=\"float: center;\" /></td>\n",
    "    <td style=\"text-align:center\"> <img align=\"center\" src=\"https://raw.githubusercontent.com/josehenriqueroveda/covid-dashboard/master/img/cough.png\"\n",
    "     alt=\"Fever\" width=\"80\"\n",
    "     style=\"float: center;\" /></td>\n",
    "    <td style=\"text-align:center\"><img align=\"center\" src=\"https://raw.githubusercontent.com/josehenriqueroveda/covid-dashboard/master/img/lungs.png\"\n",
    "     alt=\"Shortness of breath\" width=\"80\"\n",
    "     style=\"float: center;\" /></td>\n",
    "  </tr>\n",
    "  <tr>\n",
    "    <td style=\"text-align:center\"><b><p style=\"color:cornflowerblue; font-size:20px; text-align:center\">Fever</p></b></td>\n",
    "    <td style=\"text-align:center\"><b><p style=\"color:cornflowerblue; font-size:20px; text-align:center\">Cough</p></b></td>\n",
    "    <td style=\"text-align:center\"><b><p style=\"color:cornflowerblue; font-size:20px; text-align:center\">Shortness of breath</p></b></td>\n",
    "  </tr>\n",
    "</table>\n",
    "</center>"
   ]
  },
  {
   "cell_type": "code",
   "execution_count": 3,
   "metadata": {},
   "outputs": [],
   "source": [
    "from __future__ import print_function\n",
    "\n",
    "import pandas as pd\n",
    "import numpy as np\n",
    "import plotly.express as px\n",
    "import plotly.graph_objects as go\n",
    "from IPython.core.display import display, HTML\n",
    "\n",
    "from ipywidgets import interact, interactive, fixed, interact_manual\n",
    "import ipywidgets as widgets"
   ]
  },
  {
   "cell_type": "code",
   "execution_count": 4,
   "metadata": {},
   "outputs": [],
   "source": [
    "df_deaths = pd.read_csv('https://raw.githubusercontent.com/CSSEGISandData/COVID-19/master/csse_covid_19_data/csse_covid_19_time_series/time_series_covid19_deaths_global.csv')\n",
    "df_cases = pd.read_csv('https://raw.githubusercontent.com/CSSEGISandData/COVID-19/master/csse_covid_19_data/csse_covid_19_time_series/time_series_covid19_confirmed_global.csv')\n",
    "df_recovered = pd.read_csv('https://raw.githubusercontent.com/CSSEGISandData/COVID-19/master/csse_covid_19_data/csse_covid_19_time_series/time_series_covid19_recovered_global.csv')\n",
    "df_general = pd.read_csv('https://raw.githubusercontent.com/imdevskp/covid_19_jhu_data_web_scrap_and_cleaning/master/country_wise_latest.csv')"
   ]
  },
  {
   "cell_type": "code",
   "execution_count": 5,
   "metadata": {
    "scrolled": true
   },
   "outputs": [],
   "source": [
    "#df_deaths.head()"
   ]
  },
  {
   "cell_type": "code",
   "execution_count": 6,
   "metadata": {},
   "outputs": [],
   "source": [
    "#df_cases.head()"
   ]
  },
  {
   "cell_type": "code",
   "execution_count": 7,
   "metadata": {},
   "outputs": [],
   "source": [
    "#df_recovered.head()"
   ]
  },
  {
   "cell_type": "code",
   "execution_count": 8,
   "metadata": {},
   "outputs": [],
   "source": [
    "#df_general.head()"
   ]
  },
  {
   "cell_type": "code",
   "execution_count": 9,
   "metadata": {},
   "outputs": [],
   "source": [
    "# Data cleaning\n",
    "df_general.columns = map(str.lower, df_general.columns)\n",
    "df_deaths.columns = map(str.lower, df_deaths.columns)\n",
    "df_cases.columns = map(str.lower, df_cases.columns)\n",
    "df_recovered.columns = map(str.lower, df_recovered.columns)"
   ]
  },
  {
   "cell_type": "code",
   "execution_count": 10,
   "metadata": {},
   "outputs": [],
   "source": [
    "df_cases = df_cases.rename(columns= {'province/state': 'state', 'country/region': 'country'})\n",
    "df_deaths = df_deaths.rename(columns= {'province/state': 'state', 'country/region': 'country'})\n",
    "df_recovered = df_recovered.rename(columns= {'province/state': 'state', 'country/region': 'country'})\n",
    "df_general = df_general.rename(columns= {'country/region': 'country'})"
   ]
  },
  {
   "cell_type": "code",
   "execution_count": 11,
   "metadata": {},
   "outputs": [],
   "source": [
    "df_general_sorted = df_general.sort_values('confirmed', ascending=False)\n",
    "#df_general_sorted.head()"
   ]
  },
  {
   "cell_type": "code",
   "execution_count": 12,
   "metadata": {},
   "outputs": [],
   "source": [
    "confirmed_total = int(df_general['confirmed'].sum())\n",
    "deaths_total = int(df_general['deaths'].sum())\n",
    "recovered_total = int(df_general['recovered'].sum())\n",
    "active_total = int(df_general['active'].sum())"
   ]
  },
  {
   "cell_type": "markdown",
   "metadata": {},
   "source": [
    "<h1><center>COVID-19 By the Numbers</center></h1>\n",
    "\n",
    "<p><center>Check below how are the number of confirmed cases, deaths and recovered people in the world.</center></p>"
   ]
  },
  {
   "cell_type": "code",
   "execution_count": 13,
   "metadata": {},
   "outputs": [
    {
     "data": {
      "text/html": [
       "<div style = 'text-align:center; background-color: #f5faff; padding: 30px '><div style='color: cornflowerblue; font-size:30px;'><br><strong> Confirmed: 14506747</br></strong></div><div style='color: red; font-size:30px;margin-left:20px;'><br><strong> Deaths: 606157</br></strong></div><div style='color: green; font-size:30px; margin-left:20px;'><br><strong> Recovered: 8008318</br></strong></div></div>"
      ],
      "text/plain": [
       "<IPython.core.display.HTML object>"
      ]
     },
     "metadata": {},
     "output_type": "display_data"
    }
   ],
   "source": [
    "display(HTML(\"<div style = 'text-align:center; background-color: #f5faff; padding: 30px '>\" +\n",
    "             \"<div style='color: cornflowerblue; font-size:30px;'><br><strong> Confirmed: \"  + str(confirmed_total) +\"</br></strong></div>\" +\n",
    "             \"<div style='color: red; font-size:30px;margin-left:20px;'><br><strong> Deaths: \" + str(deaths_total) + \"</br></strong></div>\"+\n",
    "             \"<div style='color: green; font-size:30px; margin-left:20px;'><br><strong> Recovered: \" + str(recovered_total) + \"</br></strong></div>\"+\n",
    "             \"</div>\")\n",
    "       )\n"
   ]
  },
  {
   "cell_type": "markdown",
   "metadata": {},
   "source": [
    "<h1><center>Time series of number of cases and deaths in the world or per country:</center></h1>\n",
    "\n",
    "<p><center>Type the country name or \"world\" for all countries.</center></p>"
   ]
  },
  {
   "cell_type": "code",
   "execution_count": 14,
   "metadata": {},
   "outputs": [],
   "source": [
    "def country_cases(country):\n",
    "    labels = ['confirmed', 'deaths']\n",
    "    colors = ['cornflowerblue', 'red']\n",
    "    mode_size = [6,8]\n",
    "    line_size = [4,5]\n",
    "\n",
    "    df_list = [df_cases, df_deaths]\n",
    "\n",
    "    fig = go.Figure()\n",
    "\n",
    "    for i, df in enumerate(df_list):\n",
    "        if country == 'World' or country == 'world':\n",
    "            x_data = np.array(list(df.iloc[:,5:].columns))\n",
    "            y_data = np.sum(np.asarray(df.iloc[:,5:]), axis=0)\n",
    "        else:\n",
    "            x_data = np.array(list(df.iloc[:,5:].columns))\n",
    "            y_data = np.sum(np.asarray(df[df['country']==country].iloc[:,5:]), axis=0)\n",
    "        fig.add_trace(go.Scatter(x=x_data, y=y_data, mode='lines+markers', name=labels[i],\n",
    "                                line = dict(color=colors[i], width=line_size[i]),\n",
    "                                connectgaps=True,\n",
    "                                text='Total ' + str(labels[i]) + ':' + str(y_data[-1])\n",
    "                                ))\n",
    "    fig.show()"
   ]
  },
  {
   "cell_type": "code",
   "execution_count": 15,
   "metadata": {},
   "outputs": [
    {
     "data": {
      "application/vnd.jupyter.widget-view+json": {
       "model_id": "8188e2ecc0f14d39ba4d2f8fc71c915a",
       "version_major": 2,
       "version_minor": 0
      },
      "text/plain": [
       "interactive(children=(Text(value='World', description='country'), Output()), _dom_classes=('widget-interact',)…"
      ]
     },
     "metadata": {},
     "output_type": "display_data"
    }
   ],
   "source": [
    "interact(country_cases, country='World');"
   ]
  },
  {
   "cell_type": "markdown",
   "metadata": {},
   "source": [
    "<h1><center>Countries with the highest number of confirmed cases:</center></h1>"
   ]
  },
  {
   "cell_type": "code",
   "execution_count": 16,
   "metadata": {},
   "outputs": [],
   "source": [
    "def highlight_column(x):\n",
    "    red = 'background-color: red'\n",
    "    green = 'background-color: lime'\n",
    "    blue = 'background-color: cornflowerblue'\n",
    "    df_temp = pd.DataFrame('', index=x.index, columns=x.columns)\n",
    "    df_temp.iloc[:,1] = blue\n",
    "    df_temp.iloc[:,2] = red\n",
    "    df_temp.iloc[:,3] = green\n",
    "    return df_temp"
   ]
  },
  {
   "cell_type": "code",
   "execution_count": 17,
   "metadata": {},
   "outputs": [
    {
     "data": {
      "text/html": [
       "<style  type=\"text/css\" >\n",
       "    #T_a18d2a8a_cabf_11ea_b957_5d7d7516c6barow0_col1 {\n",
       "            background-color:  cornflowerblue;\n",
       "        }    #T_a18d2a8a_cabf_11ea_b957_5d7d7516c6barow0_col2 {\n",
       "            background-color:  red;\n",
       "        }    #T_a18d2a8a_cabf_11ea_b957_5d7d7516c6barow0_col3 {\n",
       "            background-color:  lime;\n",
       "        }    #T_a18d2a8a_cabf_11ea_b957_5d7d7516c6barow1_col1 {\n",
       "            background-color:  cornflowerblue;\n",
       "        }    #T_a18d2a8a_cabf_11ea_b957_5d7d7516c6barow1_col2 {\n",
       "            background-color:  red;\n",
       "        }    #T_a18d2a8a_cabf_11ea_b957_5d7d7516c6barow1_col3 {\n",
       "            background-color:  lime;\n",
       "        }    #T_a18d2a8a_cabf_11ea_b957_5d7d7516c6barow2_col1 {\n",
       "            background-color:  cornflowerblue;\n",
       "        }    #T_a18d2a8a_cabf_11ea_b957_5d7d7516c6barow2_col2 {\n",
       "            background-color:  red;\n",
       "        }    #T_a18d2a8a_cabf_11ea_b957_5d7d7516c6barow2_col3 {\n",
       "            background-color:  lime;\n",
       "        }    #T_a18d2a8a_cabf_11ea_b957_5d7d7516c6barow3_col1 {\n",
       "            background-color:  cornflowerblue;\n",
       "        }    #T_a18d2a8a_cabf_11ea_b957_5d7d7516c6barow3_col2 {\n",
       "            background-color:  red;\n",
       "        }    #T_a18d2a8a_cabf_11ea_b957_5d7d7516c6barow3_col3 {\n",
       "            background-color:  lime;\n",
       "        }    #T_a18d2a8a_cabf_11ea_b957_5d7d7516c6barow4_col1 {\n",
       "            background-color:  cornflowerblue;\n",
       "        }    #T_a18d2a8a_cabf_11ea_b957_5d7d7516c6barow4_col2 {\n",
       "            background-color:  red;\n",
       "        }    #T_a18d2a8a_cabf_11ea_b957_5d7d7516c6barow4_col3 {\n",
       "            background-color:  lime;\n",
       "        }    #T_a18d2a8a_cabf_11ea_b957_5d7d7516c6barow5_col1 {\n",
       "            background-color:  cornflowerblue;\n",
       "        }    #T_a18d2a8a_cabf_11ea_b957_5d7d7516c6barow5_col2 {\n",
       "            background-color:  red;\n",
       "        }    #T_a18d2a8a_cabf_11ea_b957_5d7d7516c6barow5_col3 {\n",
       "            background-color:  lime;\n",
       "        }    #T_a18d2a8a_cabf_11ea_b957_5d7d7516c6barow6_col1 {\n",
       "            background-color:  cornflowerblue;\n",
       "        }    #T_a18d2a8a_cabf_11ea_b957_5d7d7516c6barow6_col2 {\n",
       "            background-color:  red;\n",
       "        }    #T_a18d2a8a_cabf_11ea_b957_5d7d7516c6barow6_col3 {\n",
       "            background-color:  lime;\n",
       "        }    #T_a18d2a8a_cabf_11ea_b957_5d7d7516c6barow7_col1 {\n",
       "            background-color:  cornflowerblue;\n",
       "        }    #T_a18d2a8a_cabf_11ea_b957_5d7d7516c6barow7_col2 {\n",
       "            background-color:  red;\n",
       "        }    #T_a18d2a8a_cabf_11ea_b957_5d7d7516c6barow7_col3 {\n",
       "            background-color:  lime;\n",
       "        }    #T_a18d2a8a_cabf_11ea_b957_5d7d7516c6barow8_col1 {\n",
       "            background-color:  cornflowerblue;\n",
       "        }    #T_a18d2a8a_cabf_11ea_b957_5d7d7516c6barow8_col2 {\n",
       "            background-color:  red;\n",
       "        }    #T_a18d2a8a_cabf_11ea_b957_5d7d7516c6barow8_col3 {\n",
       "            background-color:  lime;\n",
       "        }    #T_a18d2a8a_cabf_11ea_b957_5d7d7516c6barow9_col1 {\n",
       "            background-color:  cornflowerblue;\n",
       "        }    #T_a18d2a8a_cabf_11ea_b957_5d7d7516c6barow9_col2 {\n",
       "            background-color:  red;\n",
       "        }    #T_a18d2a8a_cabf_11ea_b957_5d7d7516c6barow9_col3 {\n",
       "            background-color:  lime;\n",
       "        }</style><table id=\"T_a18d2a8a_cabf_11ea_b957_5d7d7516c6ba\" ><thead>    <tr>        <th class=\"blank level0\" ></th>        <th class=\"col_heading level0 col0\" >country</th>        <th class=\"col_heading level0 col1\" >confirmed</th>        <th class=\"col_heading level0 col2\" >deaths</th>        <th class=\"col_heading level0 col3\" >recovered</th>        <th class=\"col_heading level0 col4\" >active</th>        <th class=\"col_heading level0 col5\" >new cases</th>        <th class=\"col_heading level0 col6\" >new deaths</th>        <th class=\"col_heading level0 col7\" >new recovered</th>        <th class=\"col_heading level0 col8\" >deaths / 100 cases</th>        <th class=\"col_heading level0 col9\" >recovered / 100 cases</th>        <th class=\"col_heading level0 col10\" >deaths / 100 recovered</th>        <th class=\"col_heading level0 col11\" >confirmed last week</th>        <th class=\"col_heading level0 col12\" >1 week change</th>        <th class=\"col_heading level0 col13\" >1 week % increase</th>        <th class=\"col_heading level0 col14\" >who region</th>    </tr></thead><tbody>\n",
       "                <tr>\n",
       "                        <th id=\"T_a18d2a8a_cabf_11ea_b957_5d7d7516c6balevel0_row0\" class=\"row_heading level0 row0\" >173</th>\n",
       "                        <td id=\"T_a18d2a8a_cabf_11ea_b957_5d7d7516c6barow0_col0\" class=\"data row0 col0\" >US</td>\n",
       "                        <td id=\"T_a18d2a8a_cabf_11ea_b957_5d7d7516c6barow0_col1\" class=\"data row0 col1\" >3773260</td>\n",
       "                        <td id=\"T_a18d2a8a_cabf_11ea_b957_5d7d7516c6barow0_col2\" class=\"data row0 col2\" >140534</td>\n",
       "                        <td id=\"T_a18d2a8a_cabf_11ea_b957_5d7d7516c6barow0_col3\" class=\"data row0 col3\" >1131121</td>\n",
       "                        <td id=\"T_a18d2a8a_cabf_11ea_b957_5d7d7516c6barow0_col4\" class=\"data row0 col4\" >2501605</td>\n",
       "                        <td id=\"T_a18d2a8a_cabf_11ea_b957_5d7d7516c6barow0_col5\" class=\"data row0 col5\" >61847</td>\n",
       "                        <td id=\"T_a18d2a8a_cabf_11ea_b957_5d7d7516c6barow0_col6\" class=\"data row0 col6\" >415</td>\n",
       "                        <td id=\"T_a18d2a8a_cabf_11ea_b957_5d7d7516c6barow0_col7\" class=\"data row0 col7\" >8401</td>\n",
       "                        <td id=\"T_a18d2a8a_cabf_11ea_b957_5d7d7516c6barow0_col8\" class=\"data row0 col8\" >3.720000</td>\n",
       "                        <td id=\"T_a18d2a8a_cabf_11ea_b957_5d7d7516c6barow0_col9\" class=\"data row0 col9\" >29.980000</td>\n",
       "                        <td id=\"T_a18d2a8a_cabf_11ea_b957_5d7d7516c6barow0_col10\" class=\"data row0 col10\" >12.420000</td>\n",
       "                        <td id=\"T_a18d2a8a_cabf_11ea_b957_5d7d7516c6barow0_col11\" class=\"data row0 col11\" >3304942</td>\n",
       "                        <td id=\"T_a18d2a8a_cabf_11ea_b957_5d7d7516c6barow0_col12\" class=\"data row0 col12\" >468318</td>\n",
       "                        <td id=\"T_a18d2a8a_cabf_11ea_b957_5d7d7516c6barow0_col13\" class=\"data row0 col13\" >14.170000</td>\n",
       "                        <td id=\"T_a18d2a8a_cabf_11ea_b957_5d7d7516c6barow0_col14\" class=\"data row0 col14\" >Americas</td>\n",
       "            </tr>\n",
       "            <tr>\n",
       "                        <th id=\"T_a18d2a8a_cabf_11ea_b957_5d7d7516c6balevel0_row1\" class=\"row_heading level0 row1\" >23</th>\n",
       "                        <td id=\"T_a18d2a8a_cabf_11ea_b957_5d7d7516c6barow1_col0\" class=\"data row1 col0\" >Brazil</td>\n",
       "                        <td id=\"T_a18d2a8a_cabf_11ea_b957_5d7d7516c6barow1_col1\" class=\"data row1 col1\" >2098389</td>\n",
       "                        <td id=\"T_a18d2a8a_cabf_11ea_b957_5d7d7516c6barow1_col2\" class=\"data row1 col2\" >79488</td>\n",
       "                        <td id=\"T_a18d2a8a_cabf_11ea_b957_5d7d7516c6barow1_col3\" class=\"data row1 col3\" >1459072</td>\n",
       "                        <td id=\"T_a18d2a8a_cabf_11ea_b957_5d7d7516c6barow1_col4\" class=\"data row1 col4\" >559829</td>\n",
       "                        <td id=\"T_a18d2a8a_cabf_11ea_b957_5d7d7516c6barow1_col5\" class=\"data row1 col5\" >23529</td>\n",
       "                        <td id=\"T_a18d2a8a_cabf_11ea_b957_5d7d7516c6barow1_col6\" class=\"data row1 col6\" >716</td>\n",
       "                        <td id=\"T_a18d2a8a_cabf_11ea_b957_5d7d7516c6barow1_col7\" class=\"data row1 col7\" >11664</td>\n",
       "                        <td id=\"T_a18d2a8a_cabf_11ea_b957_5d7d7516c6barow1_col8\" class=\"data row1 col8\" >3.790000</td>\n",
       "                        <td id=\"T_a18d2a8a_cabf_11ea_b957_5d7d7516c6barow1_col9\" class=\"data row1 col9\" >69.530000</td>\n",
       "                        <td id=\"T_a18d2a8a_cabf_11ea_b957_5d7d7516c6barow1_col10\" class=\"data row1 col10\" >5.450000</td>\n",
       "                        <td id=\"T_a18d2a8a_cabf_11ea_b957_5d7d7516c6barow1_col11\" class=\"data row1 col11\" >1864681</td>\n",
       "                        <td id=\"T_a18d2a8a_cabf_11ea_b957_5d7d7516c6barow1_col12\" class=\"data row1 col12\" >233708</td>\n",
       "                        <td id=\"T_a18d2a8a_cabf_11ea_b957_5d7d7516c6barow1_col13\" class=\"data row1 col13\" >12.530000</td>\n",
       "                        <td id=\"T_a18d2a8a_cabf_11ea_b957_5d7d7516c6barow1_col14\" class=\"data row1 col14\" >Americas</td>\n",
       "            </tr>\n",
       "            <tr>\n",
       "                        <th id=\"T_a18d2a8a_cabf_11ea_b957_5d7d7516c6balevel0_row2\" class=\"row_heading level0 row2\" >79</th>\n",
       "                        <td id=\"T_a18d2a8a_cabf_11ea_b957_5d7d7516c6barow2_col0\" class=\"data row2 col0\" >India</td>\n",
       "                        <td id=\"T_a18d2a8a_cabf_11ea_b957_5d7d7516c6barow2_col1\" class=\"data row2 col1\" >1118206</td>\n",
       "                        <td id=\"T_a18d2a8a_cabf_11ea_b957_5d7d7516c6barow2_col2\" class=\"data row2 col2\" >27497</td>\n",
       "                        <td id=\"T_a18d2a8a_cabf_11ea_b957_5d7d7516c6barow2_col3\" class=\"data row2 col3\" >700087</td>\n",
       "                        <td id=\"T_a18d2a8a_cabf_11ea_b957_5d7d7516c6barow2_col4\" class=\"data row2 col4\" >390622</td>\n",
       "                        <td id=\"T_a18d2a8a_cabf_11ea_b957_5d7d7516c6barow2_col5\" class=\"data row2 col5\" >40425</td>\n",
       "                        <td id=\"T_a18d2a8a_cabf_11ea_b957_5d7d7516c6barow2_col6\" class=\"data row2 col6\" >681</td>\n",
       "                        <td id=\"T_a18d2a8a_cabf_11ea_b957_5d7d7516c6barow2_col7\" class=\"data row2 col7\" >22664</td>\n",
       "                        <td id=\"T_a18d2a8a_cabf_11ea_b957_5d7d7516c6barow2_col8\" class=\"data row2 col8\" >2.460000</td>\n",
       "                        <td id=\"T_a18d2a8a_cabf_11ea_b957_5d7d7516c6barow2_col9\" class=\"data row2 col9\" >62.610000</td>\n",
       "                        <td id=\"T_a18d2a8a_cabf_11ea_b957_5d7d7516c6barow2_col10\" class=\"data row2 col10\" >3.930000</td>\n",
       "                        <td id=\"T_a18d2a8a_cabf_11ea_b957_5d7d7516c6barow2_col11\" class=\"data row2 col11\" >878254</td>\n",
       "                        <td id=\"T_a18d2a8a_cabf_11ea_b957_5d7d7516c6barow2_col12\" class=\"data row2 col12\" >239952</td>\n",
       "                        <td id=\"T_a18d2a8a_cabf_11ea_b957_5d7d7516c6barow2_col13\" class=\"data row2 col13\" >27.320000</td>\n",
       "                        <td id=\"T_a18d2a8a_cabf_11ea_b957_5d7d7516c6barow2_col14\" class=\"data row2 col14\" >South-East Asia</td>\n",
       "            </tr>\n",
       "            <tr>\n",
       "                        <th id=\"T_a18d2a8a_cabf_11ea_b957_5d7d7516c6balevel0_row3\" class=\"row_heading level0 row3\" >138</th>\n",
       "                        <td id=\"T_a18d2a8a_cabf_11ea_b957_5d7d7516c6barow3_col0\" class=\"data row3 col0\" >Russia</td>\n",
       "                        <td id=\"T_a18d2a8a_cabf_11ea_b957_5d7d7516c6barow3_col1\" class=\"data row3 col1\" >770311</td>\n",
       "                        <td id=\"T_a18d2a8a_cabf_11ea_b957_5d7d7516c6barow3_col2\" class=\"data row3 col2\" >12323</td>\n",
       "                        <td id=\"T_a18d2a8a_cabf_11ea_b957_5d7d7516c6barow3_col3\" class=\"data row3 col3\" >549387</td>\n",
       "                        <td id=\"T_a18d2a8a_cabf_11ea_b957_5d7d7516c6barow3_col4\" class=\"data row3 col4\" >208601</td>\n",
       "                        <td id=\"T_a18d2a8a_cabf_11ea_b957_5d7d7516c6barow3_col5\" class=\"data row3 col5\" >6096</td>\n",
       "                        <td id=\"T_a18d2a8a_cabf_11ea_b957_5d7d7516c6barow3_col6\" class=\"data row3 col6\" >95</td>\n",
       "                        <td id=\"T_a18d2a8a_cabf_11ea_b957_5d7d7516c6barow3_col7\" class=\"data row3 col7\" >3478</td>\n",
       "                        <td id=\"T_a18d2a8a_cabf_11ea_b957_5d7d7516c6barow3_col8\" class=\"data row3 col8\" >1.600000</td>\n",
       "                        <td id=\"T_a18d2a8a_cabf_11ea_b957_5d7d7516c6barow3_col9\" class=\"data row3 col9\" >71.320000</td>\n",
       "                        <td id=\"T_a18d2a8a_cabf_11ea_b957_5d7d7516c6barow3_col10\" class=\"data row3 col10\" >2.240000</td>\n",
       "                        <td id=\"T_a18d2a8a_cabf_11ea_b957_5d7d7516c6barow3_col11\" class=\"data row3 col11\" >726036</td>\n",
       "                        <td id=\"T_a18d2a8a_cabf_11ea_b957_5d7d7516c6barow3_col12\" class=\"data row3 col12\" >44275</td>\n",
       "                        <td id=\"T_a18d2a8a_cabf_11ea_b957_5d7d7516c6barow3_col13\" class=\"data row3 col13\" >6.100000</td>\n",
       "                        <td id=\"T_a18d2a8a_cabf_11ea_b957_5d7d7516c6barow3_col14\" class=\"data row3 col14\" >Europe</td>\n",
       "            </tr>\n",
       "            <tr>\n",
       "                        <th id=\"T_a18d2a8a_cabf_11ea_b957_5d7d7516c6balevel0_row4\" class=\"row_heading level0 row4\" >154</th>\n",
       "                        <td id=\"T_a18d2a8a_cabf_11ea_b957_5d7d7516c6barow4_col0\" class=\"data row4 col0\" >South Africa</td>\n",
       "                        <td id=\"T_a18d2a8a_cabf_11ea_b957_5d7d7516c6barow4_col1\" class=\"data row4 col1\" >364328</td>\n",
       "                        <td id=\"T_a18d2a8a_cabf_11ea_b957_5d7d7516c6barow4_col2\" class=\"data row4 col2\" >5033</td>\n",
       "                        <td id=\"T_a18d2a8a_cabf_11ea_b957_5d7d7516c6barow4_col3\" class=\"data row4 col3\" >191059</td>\n",
       "                        <td id=\"T_a18d2a8a_cabf_11ea_b957_5d7d7516c6barow4_col4\" class=\"data row4 col4\" >168236</td>\n",
       "                        <td id=\"T_a18d2a8a_cabf_11ea_b957_5d7d7516c6barow4_col5\" class=\"data row4 col5\" >13449</td>\n",
       "                        <td id=\"T_a18d2a8a_cabf_11ea_b957_5d7d7516c6barow4_col6\" class=\"data row4 col6\" >85</td>\n",
       "                        <td id=\"T_a18d2a8a_cabf_11ea_b957_5d7d7516c6barow4_col7\" class=\"data row4 col7\" >8829</td>\n",
       "                        <td id=\"T_a18d2a8a_cabf_11ea_b957_5d7d7516c6barow4_col8\" class=\"data row4 col8\" >1.380000</td>\n",
       "                        <td id=\"T_a18d2a8a_cabf_11ea_b957_5d7d7516c6barow4_col9\" class=\"data row4 col9\" >52.440000</td>\n",
       "                        <td id=\"T_a18d2a8a_cabf_11ea_b957_5d7d7516c6barow4_col10\" class=\"data row4 col10\" >2.630000</td>\n",
       "                        <td id=\"T_a18d2a8a_cabf_11ea_b957_5d7d7516c6barow4_col11\" class=\"data row4 col11\" >276242</td>\n",
       "                        <td id=\"T_a18d2a8a_cabf_11ea_b957_5d7d7516c6barow4_col12\" class=\"data row4 col12\" >88086</td>\n",
       "                        <td id=\"T_a18d2a8a_cabf_11ea_b957_5d7d7516c6barow4_col13\" class=\"data row4 col13\" >31.890000</td>\n",
       "                        <td id=\"T_a18d2a8a_cabf_11ea_b957_5d7d7516c6barow4_col14\" class=\"data row4 col14\" >Africa</td>\n",
       "            </tr>\n",
       "            <tr>\n",
       "                        <th id=\"T_a18d2a8a_cabf_11ea_b957_5d7d7516c6balevel0_row5\" class=\"row_heading level0 row5\" >132</th>\n",
       "                        <td id=\"T_a18d2a8a_cabf_11ea_b957_5d7d7516c6barow5_col0\" class=\"data row5 col0\" >Peru</td>\n",
       "                        <td id=\"T_a18d2a8a_cabf_11ea_b957_5d7d7516c6barow5_col1\" class=\"data row5 col1\" >353590</td>\n",
       "                        <td id=\"T_a18d2a8a_cabf_11ea_b957_5d7d7516c6barow5_col2\" class=\"data row5 col2\" >13187</td>\n",
       "                        <td id=\"T_a18d2a8a_cabf_11ea_b957_5d7d7516c6barow5_col3\" class=\"data row5 col3\" >241955</td>\n",
       "                        <td id=\"T_a18d2a8a_cabf_11ea_b957_5d7d7516c6barow5_col4\" class=\"data row5 col4\" >98448</td>\n",
       "                        <td id=\"T_a18d2a8a_cabf_11ea_b957_5d7d7516c6barow5_col5\" class=\"data row5 col5\" >4090</td>\n",
       "                        <td id=\"T_a18d2a8a_cabf_11ea_b957_5d7d7516c6barow5_col6\" class=\"data row5 col6\" >189</td>\n",
       "                        <td id=\"T_a18d2a8a_cabf_11ea_b957_5d7d7516c6barow5_col7\" class=\"data row5 col7\" >3869</td>\n",
       "                        <td id=\"T_a18d2a8a_cabf_11ea_b957_5d7d7516c6barow5_col8\" class=\"data row5 col8\" >3.730000</td>\n",
       "                        <td id=\"T_a18d2a8a_cabf_11ea_b957_5d7d7516c6barow5_col9\" class=\"data row5 col9\" >68.430000</td>\n",
       "                        <td id=\"T_a18d2a8a_cabf_11ea_b957_5d7d7516c6barow5_col10\" class=\"data row5 col10\" >5.450000</td>\n",
       "                        <td id=\"T_a18d2a8a_cabf_11ea_b957_5d7d7516c6barow5_col11\" class=\"data row5 col11\" >326326</td>\n",
       "                        <td id=\"T_a18d2a8a_cabf_11ea_b957_5d7d7516c6barow5_col12\" class=\"data row5 col12\" >27264</td>\n",
       "                        <td id=\"T_a18d2a8a_cabf_11ea_b957_5d7d7516c6barow5_col13\" class=\"data row5 col13\" >8.350000</td>\n",
       "                        <td id=\"T_a18d2a8a_cabf_11ea_b957_5d7d7516c6barow5_col14\" class=\"data row5 col14\" >Americas</td>\n",
       "            </tr>\n",
       "            <tr>\n",
       "                        <th id=\"T_a18d2a8a_cabf_11ea_b957_5d7d7516c6balevel0_row6\" class=\"row_heading level0 row6\" >111</th>\n",
       "                        <td id=\"T_a18d2a8a_cabf_11ea_b957_5d7d7516c6barow6_col0\" class=\"data row6 col0\" >Mexico</td>\n",
       "                        <td id=\"T_a18d2a8a_cabf_11ea_b957_5d7d7516c6barow6_col1\" class=\"data row6 col1\" >344224</td>\n",
       "                        <td id=\"T_a18d2a8a_cabf_11ea_b957_5d7d7516c6barow6_col2\" class=\"data row6 col2\" >39184</td>\n",
       "                        <td id=\"T_a18d2a8a_cabf_11ea_b957_5d7d7516c6barow6_col3\" class=\"data row6 col3\" >254941</td>\n",
       "                        <td id=\"T_a18d2a8a_cabf_11ea_b957_5d7d7516c6barow6_col4\" class=\"data row6 col4\" >50099</td>\n",
       "                        <td id=\"T_a18d2a8a_cabf_11ea_b957_5d7d7516c6barow6_col5\" class=\"data row6 col5\" >5311</td>\n",
       "                        <td id=\"T_a18d2a8a_cabf_11ea_b957_5d7d7516c6barow6_col6\" class=\"data row6 col6\" >296</td>\n",
       "                        <td id=\"T_a18d2a8a_cabf_11ea_b957_5d7d7516c6barow6_col7\" class=\"data row6 col7\" >-16298</td>\n",
       "                        <td id=\"T_a18d2a8a_cabf_11ea_b957_5d7d7516c6barow6_col8\" class=\"data row6 col8\" >11.380000</td>\n",
       "                        <td id=\"T_a18d2a8a_cabf_11ea_b957_5d7d7516c6barow6_col9\" class=\"data row6 col9\" >74.060000</td>\n",
       "                        <td id=\"T_a18d2a8a_cabf_11ea_b957_5d7d7516c6barow6_col10\" class=\"data row6 col10\" >15.370000</td>\n",
       "                        <td id=\"T_a18d2a8a_cabf_11ea_b957_5d7d7516c6barow6_col11\" class=\"data row6 col11\" >299750</td>\n",
       "                        <td id=\"T_a18d2a8a_cabf_11ea_b957_5d7d7516c6barow6_col12\" class=\"data row6 col12\" >44474</td>\n",
       "                        <td id=\"T_a18d2a8a_cabf_11ea_b957_5d7d7516c6barow6_col13\" class=\"data row6 col13\" >14.840000</td>\n",
       "                        <td id=\"T_a18d2a8a_cabf_11ea_b957_5d7d7516c6barow6_col14\" class=\"data row6 col14\" >Americas</td>\n",
       "            </tr>\n",
       "            <tr>\n",
       "                        <th id=\"T_a18d2a8a_cabf_11ea_b957_5d7d7516c6balevel0_row7\" class=\"row_heading level0 row7\" >35</th>\n",
       "                        <td id=\"T_a18d2a8a_cabf_11ea_b957_5d7d7516c6barow7_col0\" class=\"data row7 col0\" >Chile</td>\n",
       "                        <td id=\"T_a18d2a8a_cabf_11ea_b957_5d7d7516c6barow7_col1\" class=\"data row7 col1\" >330930</td>\n",
       "                        <td id=\"T_a18d2a8a_cabf_11ea_b957_5d7d7516c6barow7_col2\" class=\"data row7 col2\" >8503</td>\n",
       "                        <td id=\"T_a18d2a8a_cabf_11ea_b957_5d7d7516c6barow7_col3\" class=\"data row7 col3\" >301794</td>\n",
       "                        <td id=\"T_a18d2a8a_cabf_11ea_b957_5d7d7516c6barow7_col4\" class=\"data row7 col4\" >20633</td>\n",
       "                        <td id=\"T_a18d2a8a_cabf_11ea_b957_5d7d7516c6barow7_col5\" class=\"data row7 col5\" >2084</td>\n",
       "                        <td id=\"T_a18d2a8a_cabf_11ea_b957_5d7d7516c6barow7_col6\" class=\"data row7 col6\" >58</td>\n",
       "                        <td id=\"T_a18d2a8a_cabf_11ea_b957_5d7d7516c6barow7_col7\" class=\"data row7 col7\" >2345</td>\n",
       "                        <td id=\"T_a18d2a8a_cabf_11ea_b957_5d7d7516c6barow7_col8\" class=\"data row7 col8\" >2.570000</td>\n",
       "                        <td id=\"T_a18d2a8a_cabf_11ea_b957_5d7d7516c6barow7_col9\" class=\"data row7 col9\" >91.200000</td>\n",
       "                        <td id=\"T_a18d2a8a_cabf_11ea_b957_5d7d7516c6barow7_col10\" class=\"data row7 col10\" >2.820000</td>\n",
       "                        <td id=\"T_a18d2a8a_cabf_11ea_b957_5d7d7516c6barow7_col11\" class=\"data row7 col11\" >315041</td>\n",
       "                        <td id=\"T_a18d2a8a_cabf_11ea_b957_5d7d7516c6barow7_col12\" class=\"data row7 col12\" >15889</td>\n",
       "                        <td id=\"T_a18d2a8a_cabf_11ea_b957_5d7d7516c6barow7_col13\" class=\"data row7 col13\" >5.040000</td>\n",
       "                        <td id=\"T_a18d2a8a_cabf_11ea_b957_5d7d7516c6barow7_col14\" class=\"data row7 col14\" >Americas</td>\n",
       "            </tr>\n",
       "            <tr>\n",
       "                        <th id=\"T_a18d2a8a_cabf_11ea_b957_5d7d7516c6balevel0_row8\" class=\"row_heading level0 row8\" >177</th>\n",
       "                        <td id=\"T_a18d2a8a_cabf_11ea_b957_5d7d7516c6barow8_col0\" class=\"data row8 col0\" >United Kingdom</td>\n",
       "                        <td id=\"T_a18d2a8a_cabf_11ea_b957_5d7d7516c6barow8_col1\" class=\"data row8 col1\" >296358</td>\n",
       "                        <td id=\"T_a18d2a8a_cabf_11ea_b957_5d7d7516c6barow8_col2\" class=\"data row8 col2\" >45385</td>\n",
       "                        <td id=\"T_a18d2a8a_cabf_11ea_b957_5d7d7516c6barow8_col3\" class=\"data row8 col3\" >1413</td>\n",
       "                        <td id=\"T_a18d2a8a_cabf_11ea_b957_5d7d7516c6barow8_col4\" class=\"data row8 col4\" >249560</td>\n",
       "                        <td id=\"T_a18d2a8a_cabf_11ea_b957_5d7d7516c6barow8_col5\" class=\"data row8 col5\" >726</td>\n",
       "                        <td id=\"T_a18d2a8a_cabf_11ea_b957_5d7d7516c6barow8_col6\" class=\"data row8 col6\" >27</td>\n",
       "                        <td id=\"T_a18d2a8a_cabf_11ea_b957_5d7d7516c6barow8_col7\" class=\"data row8 col7\" >0</td>\n",
       "                        <td id=\"T_a18d2a8a_cabf_11ea_b957_5d7d7516c6barow8_col8\" class=\"data row8 col8\" >15.310000</td>\n",
       "                        <td id=\"T_a18d2a8a_cabf_11ea_b957_5d7d7516c6barow8_col9\" class=\"data row8 col9\" >0.480000</td>\n",
       "                        <td id=\"T_a18d2a8a_cabf_11ea_b957_5d7d7516c6barow8_col10\" class=\"data row8 col10\" >3211.960000</td>\n",
       "                        <td id=\"T_a18d2a8a_cabf_11ea_b957_5d7d7516c6barow8_col11\" class=\"data row8 col11\" >291154</td>\n",
       "                        <td id=\"T_a18d2a8a_cabf_11ea_b957_5d7d7516c6barow8_col12\" class=\"data row8 col12\" >5204</td>\n",
       "                        <td id=\"T_a18d2a8a_cabf_11ea_b957_5d7d7516c6barow8_col13\" class=\"data row8 col13\" >1.790000</td>\n",
       "                        <td id=\"T_a18d2a8a_cabf_11ea_b957_5d7d7516c6barow8_col14\" class=\"data row8 col14\" >Europe</td>\n",
       "            </tr>\n",
       "            <tr>\n",
       "                        <th id=\"T_a18d2a8a_cabf_11ea_b957_5d7d7516c6balevel0_row9\" class=\"row_heading level0 row9\" >81</th>\n",
       "                        <td id=\"T_a18d2a8a_cabf_11ea_b957_5d7d7516c6barow9_col0\" class=\"data row9 col0\" >Iran</td>\n",
       "                        <td id=\"T_a18d2a8a_cabf_11ea_b957_5d7d7516c6barow9_col1\" class=\"data row9 col1\" >273788</td>\n",
       "                        <td id=\"T_a18d2a8a_cabf_11ea_b957_5d7d7516c6barow9_col2\" class=\"data row9 col2\" >14188</td>\n",
       "                        <td id=\"T_a18d2a8a_cabf_11ea_b957_5d7d7516c6barow9_col3\" class=\"data row9 col3\" >237788</td>\n",
       "                        <td id=\"T_a18d2a8a_cabf_11ea_b957_5d7d7516c6barow9_col4\" class=\"data row9 col4\" >21812</td>\n",
       "                        <td id=\"T_a18d2a8a_cabf_11ea_b957_5d7d7516c6barow9_col5\" class=\"data row9 col5\" >2182</td>\n",
       "                        <td id=\"T_a18d2a8a_cabf_11ea_b957_5d7d7516c6barow9_col6\" class=\"data row9 col6\" >209</td>\n",
       "                        <td id=\"T_a18d2a8a_cabf_11ea_b957_5d7d7516c6barow9_col7\" class=\"data row9 col7\" >2488</td>\n",
       "                        <td id=\"T_a18d2a8a_cabf_11ea_b957_5d7d7516c6barow9_col8\" class=\"data row9 col8\" >5.180000</td>\n",
       "                        <td id=\"T_a18d2a8a_cabf_11ea_b957_5d7d7516c6barow9_col9\" class=\"data row9 col9\" >86.850000</td>\n",
       "                        <td id=\"T_a18d2a8a_cabf_11ea_b957_5d7d7516c6barow9_col10\" class=\"data row9 col10\" >5.970000</td>\n",
       "                        <td id=\"T_a18d2a8a_cabf_11ea_b957_5d7d7516c6barow9_col11\" class=\"data row9 col11\" >257303</td>\n",
       "                        <td id=\"T_a18d2a8a_cabf_11ea_b957_5d7d7516c6barow9_col12\" class=\"data row9 col12\" >16485</td>\n",
       "                        <td id=\"T_a18d2a8a_cabf_11ea_b957_5d7d7516c6barow9_col13\" class=\"data row9 col13\" >6.410000</td>\n",
       "                        <td id=\"T_a18d2a8a_cabf_11ea_b957_5d7d7516c6barow9_col14\" class=\"data row9 col14\" >Eastern Mediterranean</td>\n",
       "            </tr>\n",
       "    </tbody></table>"
      ],
      "text/plain": [
       "<pandas.io.formats.style.Styler at 0x7f69aea31c10>"
      ]
     },
     "execution_count": 17,
     "metadata": {},
     "output_type": "execute_result"
    }
   ],
   "source": [
    "df_general_sorted.head(10).style.apply(highlight_column, axis=None)"
   ]
  },
  {
   "cell_type": "code",
   "execution_count": 18,
   "metadata": {},
   "outputs": [
    {
     "data": {
      "application/vnd.plotly.v1+json": {
       "config": {
        "plotlyServerURL": "https://plot.ly"
       },
       "data": [
        {
         "hovertemplate": "<b>%{hovertext}</b><br><br>country=%{x}<br>confirmed=%{marker.size}<extra></extra>",
         "hovertext": [
          "US"
         ],
         "legendgroup": "US",
         "marker": {
          "color": "#636efa",
          "size": [
           3773260
          ],
          "sizemode": "area",
          "sizeref": 1048.1277777777777,
          "symbol": "circle"
         },
         "mode": "markers",
         "name": "US",
         "orientation": "v",
         "showlegend": true,
         "type": "scatter",
         "x": [
          "US"
         ],
         "xaxis": "x",
         "y": [
          3773260
         ],
         "yaxis": "y"
        },
        {
         "hovertemplate": "<b>%{hovertext}</b><br><br>country=%{x}<br>confirmed=%{marker.size}<extra></extra>",
         "hovertext": [
          "Brazil"
         ],
         "legendgroup": "Brazil",
         "marker": {
          "color": "#EF553B",
          "size": [
           2098389
          ],
          "sizemode": "area",
          "sizeref": 1048.1277777777777,
          "symbol": "circle"
         },
         "mode": "markers",
         "name": "Brazil",
         "orientation": "v",
         "showlegend": true,
         "type": "scatter",
         "x": [
          "Brazil"
         ],
         "xaxis": "x",
         "y": [
          2098389
         ],
         "yaxis": "y"
        },
        {
         "hovertemplate": "<b>%{hovertext}</b><br><br>country=%{x}<br>confirmed=%{marker.size}<extra></extra>",
         "hovertext": [
          "India"
         ],
         "legendgroup": "India",
         "marker": {
          "color": "#00cc96",
          "size": [
           1118206
          ],
          "sizemode": "area",
          "sizeref": 1048.1277777777777,
          "symbol": "circle"
         },
         "mode": "markers",
         "name": "India",
         "orientation": "v",
         "showlegend": true,
         "type": "scatter",
         "x": [
          "India"
         ],
         "xaxis": "x",
         "y": [
          1118206
         ],
         "yaxis": "y"
        },
        {
         "hovertemplate": "<b>%{hovertext}</b><br><br>country=%{x}<br>confirmed=%{marker.size}<extra></extra>",
         "hovertext": [
          "Russia"
         ],
         "legendgroup": "Russia",
         "marker": {
          "color": "#ab63fa",
          "size": [
           770311
          ],
          "sizemode": "area",
          "sizeref": 1048.1277777777777,
          "symbol": "circle"
         },
         "mode": "markers",
         "name": "Russia",
         "orientation": "v",
         "showlegend": true,
         "type": "scatter",
         "x": [
          "Russia"
         ],
         "xaxis": "x",
         "y": [
          770311
         ],
         "yaxis": "y"
        },
        {
         "hovertemplate": "<b>%{hovertext}</b><br><br>country=%{x}<br>confirmed=%{marker.size}<extra></extra>",
         "hovertext": [
          "South Africa"
         ],
         "legendgroup": "South Africa",
         "marker": {
          "color": "#FFA15A",
          "size": [
           364328
          ],
          "sizemode": "area",
          "sizeref": 1048.1277777777777,
          "symbol": "circle"
         },
         "mode": "markers",
         "name": "South Africa",
         "orientation": "v",
         "showlegend": true,
         "type": "scatter",
         "x": [
          "South Africa"
         ],
         "xaxis": "x",
         "y": [
          364328
         ],
         "yaxis": "y"
        },
        {
         "hovertemplate": "<b>%{hovertext}</b><br><br>country=%{x}<br>confirmed=%{marker.size}<extra></extra>",
         "hovertext": [
          "Peru"
         ],
         "legendgroup": "Peru",
         "marker": {
          "color": "#19d3f3",
          "size": [
           353590
          ],
          "sizemode": "area",
          "sizeref": 1048.1277777777777,
          "symbol": "circle"
         },
         "mode": "markers",
         "name": "Peru",
         "orientation": "v",
         "showlegend": true,
         "type": "scatter",
         "x": [
          "Peru"
         ],
         "xaxis": "x",
         "y": [
          353590
         ],
         "yaxis": "y"
        },
        {
         "hovertemplate": "<b>%{hovertext}</b><br><br>country=%{x}<br>confirmed=%{marker.size}<extra></extra>",
         "hovertext": [
          "Mexico"
         ],
         "legendgroup": "Mexico",
         "marker": {
          "color": "#FF6692",
          "size": [
           344224
          ],
          "sizemode": "area",
          "sizeref": 1048.1277777777777,
          "symbol": "circle"
         },
         "mode": "markers",
         "name": "Mexico",
         "orientation": "v",
         "showlegend": true,
         "type": "scatter",
         "x": [
          "Mexico"
         ],
         "xaxis": "x",
         "y": [
          344224
         ],
         "yaxis": "y"
        },
        {
         "hovertemplate": "<b>%{hovertext}</b><br><br>country=%{x}<br>confirmed=%{marker.size}<extra></extra>",
         "hovertext": [
          "Chile"
         ],
         "legendgroup": "Chile",
         "marker": {
          "color": "#B6E880",
          "size": [
           330930
          ],
          "sizemode": "area",
          "sizeref": 1048.1277777777777,
          "symbol": "circle"
         },
         "mode": "markers",
         "name": "Chile",
         "orientation": "v",
         "showlegend": true,
         "type": "scatter",
         "x": [
          "Chile"
         ],
         "xaxis": "x",
         "y": [
          330930
         ],
         "yaxis": "y"
        },
        {
         "hovertemplate": "<b>%{hovertext}</b><br><br>country=%{x}<br>confirmed=%{marker.size}<extra></extra>",
         "hovertext": [
          "United Kingdom"
         ],
         "legendgroup": "United Kingdom",
         "marker": {
          "color": "#FF97FF",
          "size": [
           296358
          ],
          "sizemode": "area",
          "sizeref": 1048.1277777777777,
          "symbol": "circle"
         },
         "mode": "markers",
         "name": "United Kingdom",
         "orientation": "v",
         "showlegend": true,
         "type": "scatter",
         "x": [
          "United Kingdom"
         ],
         "xaxis": "x",
         "y": [
          296358
         ],
         "yaxis": "y"
        },
        {
         "hovertemplate": "<b>%{hovertext}</b><br><br>country=%{x}<br>confirmed=%{marker.size}<extra></extra>",
         "hovertext": [
          "Iran"
         ],
         "legendgroup": "Iran",
         "marker": {
          "color": "#FECB52",
          "size": [
           273788
          ],
          "sizemode": "area",
          "sizeref": 1048.1277777777777,
          "symbol": "circle"
         },
         "mode": "markers",
         "name": "Iran",
         "orientation": "v",
         "showlegend": true,
         "type": "scatter",
         "x": [
          "Iran"
         ],
         "xaxis": "x",
         "y": [
          273788
         ],
         "yaxis": "y"
        },
        {
         "hovertemplate": "<b>%{hovertext}</b><br><br>country=%{x}<br>confirmed=%{marker.size}<extra></extra>",
         "hovertext": [
          "Pakistan"
         ],
         "legendgroup": "Pakistan",
         "marker": {
          "color": "#636efa",
          "size": [
           265083
          ],
          "sizemode": "area",
          "sizeref": 1048.1277777777777,
          "symbol": "circle"
         },
         "mode": "markers",
         "name": "Pakistan",
         "orientation": "v",
         "showlegend": true,
         "type": "scatter",
         "x": [
          "Pakistan"
         ],
         "xaxis": "x",
         "y": [
          265083
         ],
         "yaxis": "y"
        },
        {
         "hovertemplate": "<b>%{hovertext}</b><br><br>country=%{x}<br>confirmed=%{marker.size}<extra></extra>",
         "hovertext": [
          "Spain"
         ],
         "legendgroup": "Spain",
         "marker": {
          "color": "#EF553B",
          "size": [
           260255
          ],
          "sizemode": "area",
          "sizeref": 1048.1277777777777,
          "symbol": "circle"
         },
         "mode": "markers",
         "name": "Spain",
         "orientation": "v",
         "showlegend": true,
         "type": "scatter",
         "x": [
          "Spain"
         ],
         "xaxis": "x",
         "y": [
          260255
         ],
         "yaxis": "y"
        },
        {
         "hovertemplate": "<b>%{hovertext}</b><br><br>country=%{x}<br>confirmed=%{marker.size}<extra></extra>",
         "hovertext": [
          "Saudi Arabia"
         ],
         "legendgroup": "Saudi Arabia",
         "marker": {
          "color": "#00cc96",
          "size": [
           250920
          ],
          "sizemode": "area",
          "sizeref": 1048.1277777777777,
          "symbol": "circle"
         },
         "mode": "markers",
         "name": "Saudi Arabia",
         "orientation": "v",
         "showlegend": true,
         "type": "scatter",
         "x": [
          "Saudi Arabia"
         ],
         "xaxis": "x",
         "y": [
          250920
         ],
         "yaxis": "y"
        },
        {
         "hovertemplate": "<b>%{hovertext}</b><br><br>country=%{x}<br>confirmed=%{marker.size}<extra></extra>",
         "hovertext": [
          "Italy"
         ],
         "legendgroup": "Italy",
         "marker": {
          "color": "#ab63fa",
          "size": [
           244434
          ],
          "sizemode": "area",
          "sizeref": 1048.1277777777777,
          "symbol": "circle"
         },
         "mode": "markers",
         "name": "Italy",
         "orientation": "v",
         "showlegend": true,
         "type": "scatter",
         "x": [
          "Italy"
         ],
         "xaxis": "x",
         "y": [
          244434
         ],
         "yaxis": "y"
        },
        {
         "hovertemplate": "<b>%{hovertext}</b><br><br>country=%{x}<br>confirmed=%{marker.size}<extra></extra>",
         "hovertext": [
          "Turkey"
         ],
         "legendgroup": "Turkey",
         "marker": {
          "color": "#FFA15A",
          "size": [
           219641
          ],
          "sizemode": "area",
          "sizeref": 1048.1277777777777,
          "symbol": "circle"
         },
         "mode": "markers",
         "name": "Turkey",
         "orientation": "v",
         "showlegend": true,
         "type": "scatter",
         "x": [
          "Turkey"
         ],
         "xaxis": "x",
         "y": [
          219641
         ],
         "yaxis": "y"
        }
       ],
       "layout": {
        "legend": {
         "itemsizing": "constant",
         "title": {
          "text": "country"
         },
         "tracegroupgap": 0
        },
        "margin": {
         "t": 60
        },
        "template": {
         "data": {
          "bar": [
           {
            "error_x": {
             "color": "#2a3f5f"
            },
            "error_y": {
             "color": "#2a3f5f"
            },
            "marker": {
             "line": {
              "color": "#E5ECF6",
              "width": 0.5
             }
            },
            "type": "bar"
           }
          ],
          "barpolar": [
           {
            "marker": {
             "line": {
              "color": "#E5ECF6",
              "width": 0.5
             }
            },
            "type": "barpolar"
           }
          ],
          "carpet": [
           {
            "aaxis": {
             "endlinecolor": "#2a3f5f",
             "gridcolor": "white",
             "linecolor": "white",
             "minorgridcolor": "white",
             "startlinecolor": "#2a3f5f"
            },
            "baxis": {
             "endlinecolor": "#2a3f5f",
             "gridcolor": "white",
             "linecolor": "white",
             "minorgridcolor": "white",
             "startlinecolor": "#2a3f5f"
            },
            "type": "carpet"
           }
          ],
          "choropleth": [
           {
            "colorbar": {
             "outlinewidth": 0,
             "ticks": ""
            },
            "type": "choropleth"
           }
          ],
          "contour": [
           {
            "colorbar": {
             "outlinewidth": 0,
             "ticks": ""
            },
            "colorscale": [
             [
              0,
              "#0d0887"
             ],
             [
              0.1111111111111111,
              "#46039f"
             ],
             [
              0.2222222222222222,
              "#7201a8"
             ],
             [
              0.3333333333333333,
              "#9c179e"
             ],
             [
              0.4444444444444444,
              "#bd3786"
             ],
             [
              0.5555555555555556,
              "#d8576b"
             ],
             [
              0.6666666666666666,
              "#ed7953"
             ],
             [
              0.7777777777777778,
              "#fb9f3a"
             ],
             [
              0.8888888888888888,
              "#fdca26"
             ],
             [
              1,
              "#f0f921"
             ]
            ],
            "type": "contour"
           }
          ],
          "contourcarpet": [
           {
            "colorbar": {
             "outlinewidth": 0,
             "ticks": ""
            },
            "type": "contourcarpet"
           }
          ],
          "heatmap": [
           {
            "colorbar": {
             "outlinewidth": 0,
             "ticks": ""
            },
            "colorscale": [
             [
              0,
              "#0d0887"
             ],
             [
              0.1111111111111111,
              "#46039f"
             ],
             [
              0.2222222222222222,
              "#7201a8"
             ],
             [
              0.3333333333333333,
              "#9c179e"
             ],
             [
              0.4444444444444444,
              "#bd3786"
             ],
             [
              0.5555555555555556,
              "#d8576b"
             ],
             [
              0.6666666666666666,
              "#ed7953"
             ],
             [
              0.7777777777777778,
              "#fb9f3a"
             ],
             [
              0.8888888888888888,
              "#fdca26"
             ],
             [
              1,
              "#f0f921"
             ]
            ],
            "type": "heatmap"
           }
          ],
          "heatmapgl": [
           {
            "colorbar": {
             "outlinewidth": 0,
             "ticks": ""
            },
            "colorscale": [
             [
              0,
              "#0d0887"
             ],
             [
              0.1111111111111111,
              "#46039f"
             ],
             [
              0.2222222222222222,
              "#7201a8"
             ],
             [
              0.3333333333333333,
              "#9c179e"
             ],
             [
              0.4444444444444444,
              "#bd3786"
             ],
             [
              0.5555555555555556,
              "#d8576b"
             ],
             [
              0.6666666666666666,
              "#ed7953"
             ],
             [
              0.7777777777777778,
              "#fb9f3a"
             ],
             [
              0.8888888888888888,
              "#fdca26"
             ],
             [
              1,
              "#f0f921"
             ]
            ],
            "type": "heatmapgl"
           }
          ],
          "histogram": [
           {
            "marker": {
             "colorbar": {
              "outlinewidth": 0,
              "ticks": ""
             }
            },
            "type": "histogram"
           }
          ],
          "histogram2d": [
           {
            "colorbar": {
             "outlinewidth": 0,
             "ticks": ""
            },
            "colorscale": [
             [
              0,
              "#0d0887"
             ],
             [
              0.1111111111111111,
              "#46039f"
             ],
             [
              0.2222222222222222,
              "#7201a8"
             ],
             [
              0.3333333333333333,
              "#9c179e"
             ],
             [
              0.4444444444444444,
              "#bd3786"
             ],
             [
              0.5555555555555556,
              "#d8576b"
             ],
             [
              0.6666666666666666,
              "#ed7953"
             ],
             [
              0.7777777777777778,
              "#fb9f3a"
             ],
             [
              0.8888888888888888,
              "#fdca26"
             ],
             [
              1,
              "#f0f921"
             ]
            ],
            "type": "histogram2d"
           }
          ],
          "histogram2dcontour": [
           {
            "colorbar": {
             "outlinewidth": 0,
             "ticks": ""
            },
            "colorscale": [
             [
              0,
              "#0d0887"
             ],
             [
              0.1111111111111111,
              "#46039f"
             ],
             [
              0.2222222222222222,
              "#7201a8"
             ],
             [
              0.3333333333333333,
              "#9c179e"
             ],
             [
              0.4444444444444444,
              "#bd3786"
             ],
             [
              0.5555555555555556,
              "#d8576b"
             ],
             [
              0.6666666666666666,
              "#ed7953"
             ],
             [
              0.7777777777777778,
              "#fb9f3a"
             ],
             [
              0.8888888888888888,
              "#fdca26"
             ],
             [
              1,
              "#f0f921"
             ]
            ],
            "type": "histogram2dcontour"
           }
          ],
          "mesh3d": [
           {
            "colorbar": {
             "outlinewidth": 0,
             "ticks": ""
            },
            "type": "mesh3d"
           }
          ],
          "parcoords": [
           {
            "line": {
             "colorbar": {
              "outlinewidth": 0,
              "ticks": ""
             }
            },
            "type": "parcoords"
           }
          ],
          "pie": [
           {
            "automargin": true,
            "type": "pie"
           }
          ],
          "scatter": [
           {
            "marker": {
             "colorbar": {
              "outlinewidth": 0,
              "ticks": ""
             }
            },
            "type": "scatter"
           }
          ],
          "scatter3d": [
           {
            "line": {
             "colorbar": {
              "outlinewidth": 0,
              "ticks": ""
             }
            },
            "marker": {
             "colorbar": {
              "outlinewidth": 0,
              "ticks": ""
             }
            },
            "type": "scatter3d"
           }
          ],
          "scattercarpet": [
           {
            "marker": {
             "colorbar": {
              "outlinewidth": 0,
              "ticks": ""
             }
            },
            "type": "scattercarpet"
           }
          ],
          "scattergeo": [
           {
            "marker": {
             "colorbar": {
              "outlinewidth": 0,
              "ticks": ""
             }
            },
            "type": "scattergeo"
           }
          ],
          "scattergl": [
           {
            "marker": {
             "colorbar": {
              "outlinewidth": 0,
              "ticks": ""
             }
            },
            "type": "scattergl"
           }
          ],
          "scattermapbox": [
           {
            "marker": {
             "colorbar": {
              "outlinewidth": 0,
              "ticks": ""
             }
            },
            "type": "scattermapbox"
           }
          ],
          "scatterpolar": [
           {
            "marker": {
             "colorbar": {
              "outlinewidth": 0,
              "ticks": ""
             }
            },
            "type": "scatterpolar"
           }
          ],
          "scatterpolargl": [
           {
            "marker": {
             "colorbar": {
              "outlinewidth": 0,
              "ticks": ""
             }
            },
            "type": "scatterpolargl"
           }
          ],
          "scatterternary": [
           {
            "marker": {
             "colorbar": {
              "outlinewidth": 0,
              "ticks": ""
             }
            },
            "type": "scatterternary"
           }
          ],
          "surface": [
           {
            "colorbar": {
             "outlinewidth": 0,
             "ticks": ""
            },
            "colorscale": [
             [
              0,
              "#0d0887"
             ],
             [
              0.1111111111111111,
              "#46039f"
             ],
             [
              0.2222222222222222,
              "#7201a8"
             ],
             [
              0.3333333333333333,
              "#9c179e"
             ],
             [
              0.4444444444444444,
              "#bd3786"
             ],
             [
              0.5555555555555556,
              "#d8576b"
             ],
             [
              0.6666666666666666,
              "#ed7953"
             ],
             [
              0.7777777777777778,
              "#fb9f3a"
             ],
             [
              0.8888888888888888,
              "#fdca26"
             ],
             [
              1,
              "#f0f921"
             ]
            ],
            "type": "surface"
           }
          ],
          "table": [
           {
            "cells": {
             "fill": {
              "color": "#EBF0F8"
             },
             "line": {
              "color": "white"
             }
            },
            "header": {
             "fill": {
              "color": "#C8D4E3"
             },
             "line": {
              "color": "white"
             }
            },
            "type": "table"
           }
          ]
         },
         "layout": {
          "annotationdefaults": {
           "arrowcolor": "#2a3f5f",
           "arrowhead": 0,
           "arrowwidth": 1
          },
          "coloraxis": {
           "colorbar": {
            "outlinewidth": 0,
            "ticks": ""
           }
          },
          "colorscale": {
           "diverging": [
            [
             0,
             "#8e0152"
            ],
            [
             0.1,
             "#c51b7d"
            ],
            [
             0.2,
             "#de77ae"
            ],
            [
             0.3,
             "#f1b6da"
            ],
            [
             0.4,
             "#fde0ef"
            ],
            [
             0.5,
             "#f7f7f7"
            ],
            [
             0.6,
             "#e6f5d0"
            ],
            [
             0.7,
             "#b8e186"
            ],
            [
             0.8,
             "#7fbc41"
            ],
            [
             0.9,
             "#4d9221"
            ],
            [
             1,
             "#276419"
            ]
           ],
           "sequential": [
            [
             0,
             "#0d0887"
            ],
            [
             0.1111111111111111,
             "#46039f"
            ],
            [
             0.2222222222222222,
             "#7201a8"
            ],
            [
             0.3333333333333333,
             "#9c179e"
            ],
            [
             0.4444444444444444,
             "#bd3786"
            ],
            [
             0.5555555555555556,
             "#d8576b"
            ],
            [
             0.6666666666666666,
             "#ed7953"
            ],
            [
             0.7777777777777778,
             "#fb9f3a"
            ],
            [
             0.8888888888888888,
             "#fdca26"
            ],
            [
             1,
             "#f0f921"
            ]
           ],
           "sequentialminus": [
            [
             0,
             "#0d0887"
            ],
            [
             0.1111111111111111,
             "#46039f"
            ],
            [
             0.2222222222222222,
             "#7201a8"
            ],
            [
             0.3333333333333333,
             "#9c179e"
            ],
            [
             0.4444444444444444,
             "#bd3786"
            ],
            [
             0.5555555555555556,
             "#d8576b"
            ],
            [
             0.6666666666666666,
             "#ed7953"
            ],
            [
             0.7777777777777778,
             "#fb9f3a"
            ],
            [
             0.8888888888888888,
             "#fdca26"
            ],
            [
             1,
             "#f0f921"
            ]
           ]
          },
          "colorway": [
           "#636efa",
           "#EF553B",
           "#00cc96",
           "#ab63fa",
           "#FFA15A",
           "#19d3f3",
           "#FF6692",
           "#B6E880",
           "#FF97FF",
           "#FECB52"
          ],
          "font": {
           "color": "#2a3f5f"
          },
          "geo": {
           "bgcolor": "white",
           "lakecolor": "white",
           "landcolor": "#E5ECF6",
           "showlakes": true,
           "showland": true,
           "subunitcolor": "white"
          },
          "hoverlabel": {
           "align": "left"
          },
          "hovermode": "closest",
          "mapbox": {
           "style": "light"
          },
          "paper_bgcolor": "white",
          "plot_bgcolor": "#E5ECF6",
          "polar": {
           "angularaxis": {
            "gridcolor": "white",
            "linecolor": "white",
            "ticks": ""
           },
           "bgcolor": "#E5ECF6",
           "radialaxis": {
            "gridcolor": "white",
            "linecolor": "white",
            "ticks": ""
           }
          },
          "scene": {
           "xaxis": {
            "backgroundcolor": "#E5ECF6",
            "gridcolor": "white",
            "gridwidth": 2,
            "linecolor": "white",
            "showbackground": true,
            "ticks": "",
            "zerolinecolor": "white"
           },
           "yaxis": {
            "backgroundcolor": "#E5ECF6",
            "gridcolor": "white",
            "gridwidth": 2,
            "linecolor": "white",
            "showbackground": true,
            "ticks": "",
            "zerolinecolor": "white"
           },
           "zaxis": {
            "backgroundcolor": "#E5ECF6",
            "gridcolor": "white",
            "gridwidth": 2,
            "linecolor": "white",
            "showbackground": true,
            "ticks": "",
            "zerolinecolor": "white"
           }
          },
          "shapedefaults": {
           "line": {
            "color": "#2a3f5f"
           }
          },
          "ternary": {
           "aaxis": {
            "gridcolor": "white",
            "linecolor": "white",
            "ticks": ""
           },
           "baxis": {
            "gridcolor": "white",
            "linecolor": "white",
            "ticks": ""
           },
           "bgcolor": "#E5ECF6",
           "caxis": {
            "gridcolor": "white",
            "linecolor": "white",
            "ticks": ""
           }
          },
          "title": {
           "x": 0.05
          },
          "xaxis": {
           "automargin": true,
           "gridcolor": "white",
           "linecolor": "white",
           "ticks": "",
           "title": {
            "standoff": 15
           },
           "zerolinecolor": "white",
           "zerolinewidth": 2
          },
          "yaxis": {
           "automargin": true,
           "gridcolor": "white",
           "linecolor": "white",
           "ticks": "",
           "title": {
            "standoff": 15
           },
           "zerolinecolor": "white",
           "zerolinewidth": 2
          }
         }
        },
        "xaxis": {
         "anchor": "y",
         "categoryarray": [
          "US",
          "Brazil",
          "India",
          "Russia",
          "South Africa",
          "Peru",
          "Mexico",
          "Chile",
          "United Kingdom",
          "Iran",
          "Pakistan",
          "Spain",
          "Saudi Arabia",
          "Italy",
          "Turkey"
         ],
         "categoryorder": "array",
         "domain": [
          0,
          1
         ],
         "title": {
          "text": "country"
         }
        },
        "yaxis": {
         "anchor": "x",
         "domain": [
          0,
          1
         ],
         "title": {
          "text": "confirmed"
         }
        }
       }
      },
      "text/html": [
       "<div>\n",
       "        \n",
       "        \n",
       "            <div id=\"91760117-6893-4df6-8518-dc1ac67d2a82\" class=\"plotly-graph-div\" style=\"height:525px; width:100%;\"></div>\n",
       "            <script type=\"text/javascript\">\n",
       "                require([\"plotly\"], function(Plotly) {\n",
       "                    window.PLOTLYENV=window.PLOTLYENV || {};\n",
       "                    \n",
       "                if (document.getElementById(\"91760117-6893-4df6-8518-dc1ac67d2a82\")) {\n",
       "                    Plotly.newPlot(\n",
       "                        '91760117-6893-4df6-8518-dc1ac67d2a82',\n",
       "                        [{\"hovertemplate\": \"<b>%{hovertext}</b><br><br>country=%{x}<br>confirmed=%{marker.size}<extra></extra>\", \"hovertext\": [\"US\"], \"legendgroup\": \"US\", \"marker\": {\"color\": \"#636efa\", \"size\": [3773260], \"sizemode\": \"area\", \"sizeref\": 1048.1277777777777, \"symbol\": \"circle\"}, \"mode\": \"markers\", \"name\": \"US\", \"orientation\": \"v\", \"showlegend\": true, \"type\": \"scatter\", \"x\": [\"US\"], \"xaxis\": \"x\", \"y\": [3773260], \"yaxis\": \"y\"}, {\"hovertemplate\": \"<b>%{hovertext}</b><br><br>country=%{x}<br>confirmed=%{marker.size}<extra></extra>\", \"hovertext\": [\"Brazil\"], \"legendgroup\": \"Brazil\", \"marker\": {\"color\": \"#EF553B\", \"size\": [2098389], \"sizemode\": \"area\", \"sizeref\": 1048.1277777777777, \"symbol\": \"circle\"}, \"mode\": \"markers\", \"name\": \"Brazil\", \"orientation\": \"v\", \"showlegend\": true, \"type\": \"scatter\", \"x\": [\"Brazil\"], \"xaxis\": \"x\", \"y\": [2098389], \"yaxis\": \"y\"}, {\"hovertemplate\": \"<b>%{hovertext}</b><br><br>country=%{x}<br>confirmed=%{marker.size}<extra></extra>\", \"hovertext\": [\"India\"], \"legendgroup\": \"India\", \"marker\": {\"color\": \"#00cc96\", \"size\": [1118206], \"sizemode\": \"area\", \"sizeref\": 1048.1277777777777, \"symbol\": \"circle\"}, \"mode\": \"markers\", \"name\": \"India\", \"orientation\": \"v\", \"showlegend\": true, \"type\": \"scatter\", \"x\": [\"India\"], \"xaxis\": \"x\", \"y\": [1118206], \"yaxis\": \"y\"}, {\"hovertemplate\": \"<b>%{hovertext}</b><br><br>country=%{x}<br>confirmed=%{marker.size}<extra></extra>\", \"hovertext\": [\"Russia\"], \"legendgroup\": \"Russia\", \"marker\": {\"color\": \"#ab63fa\", \"size\": [770311], \"sizemode\": \"area\", \"sizeref\": 1048.1277777777777, \"symbol\": \"circle\"}, \"mode\": \"markers\", \"name\": \"Russia\", \"orientation\": \"v\", \"showlegend\": true, \"type\": \"scatter\", \"x\": [\"Russia\"], \"xaxis\": \"x\", \"y\": [770311], \"yaxis\": \"y\"}, {\"hovertemplate\": \"<b>%{hovertext}</b><br><br>country=%{x}<br>confirmed=%{marker.size}<extra></extra>\", \"hovertext\": [\"South Africa\"], \"legendgroup\": \"South Africa\", \"marker\": {\"color\": \"#FFA15A\", \"size\": [364328], \"sizemode\": \"area\", \"sizeref\": 1048.1277777777777, \"symbol\": \"circle\"}, \"mode\": \"markers\", \"name\": \"South Africa\", \"orientation\": \"v\", \"showlegend\": true, \"type\": \"scatter\", \"x\": [\"South Africa\"], \"xaxis\": \"x\", \"y\": [364328], \"yaxis\": \"y\"}, {\"hovertemplate\": \"<b>%{hovertext}</b><br><br>country=%{x}<br>confirmed=%{marker.size}<extra></extra>\", \"hovertext\": [\"Peru\"], \"legendgroup\": \"Peru\", \"marker\": {\"color\": \"#19d3f3\", \"size\": [353590], \"sizemode\": \"area\", \"sizeref\": 1048.1277777777777, \"symbol\": \"circle\"}, \"mode\": \"markers\", \"name\": \"Peru\", \"orientation\": \"v\", \"showlegend\": true, \"type\": \"scatter\", \"x\": [\"Peru\"], \"xaxis\": \"x\", \"y\": [353590], \"yaxis\": \"y\"}, {\"hovertemplate\": \"<b>%{hovertext}</b><br><br>country=%{x}<br>confirmed=%{marker.size}<extra></extra>\", \"hovertext\": [\"Mexico\"], \"legendgroup\": \"Mexico\", \"marker\": {\"color\": \"#FF6692\", \"size\": [344224], \"sizemode\": \"area\", \"sizeref\": 1048.1277777777777, \"symbol\": \"circle\"}, \"mode\": \"markers\", \"name\": \"Mexico\", \"orientation\": \"v\", \"showlegend\": true, \"type\": \"scatter\", \"x\": [\"Mexico\"], \"xaxis\": \"x\", \"y\": [344224], \"yaxis\": \"y\"}, {\"hovertemplate\": \"<b>%{hovertext}</b><br><br>country=%{x}<br>confirmed=%{marker.size}<extra></extra>\", \"hovertext\": [\"Chile\"], \"legendgroup\": \"Chile\", \"marker\": {\"color\": \"#B6E880\", \"size\": [330930], \"sizemode\": \"area\", \"sizeref\": 1048.1277777777777, \"symbol\": \"circle\"}, \"mode\": \"markers\", \"name\": \"Chile\", \"orientation\": \"v\", \"showlegend\": true, \"type\": \"scatter\", \"x\": [\"Chile\"], \"xaxis\": \"x\", \"y\": [330930], \"yaxis\": \"y\"}, {\"hovertemplate\": \"<b>%{hovertext}</b><br><br>country=%{x}<br>confirmed=%{marker.size}<extra></extra>\", \"hovertext\": [\"United Kingdom\"], \"legendgroup\": \"United Kingdom\", \"marker\": {\"color\": \"#FF97FF\", \"size\": [296358], \"sizemode\": \"area\", \"sizeref\": 1048.1277777777777, \"symbol\": \"circle\"}, \"mode\": \"markers\", \"name\": \"United Kingdom\", \"orientation\": \"v\", \"showlegend\": true, \"type\": \"scatter\", \"x\": [\"United Kingdom\"], \"xaxis\": \"x\", \"y\": [296358], \"yaxis\": \"y\"}, {\"hovertemplate\": \"<b>%{hovertext}</b><br><br>country=%{x}<br>confirmed=%{marker.size}<extra></extra>\", \"hovertext\": [\"Iran\"], \"legendgroup\": \"Iran\", \"marker\": {\"color\": \"#FECB52\", \"size\": [273788], \"sizemode\": \"area\", \"sizeref\": 1048.1277777777777, \"symbol\": \"circle\"}, \"mode\": \"markers\", \"name\": \"Iran\", \"orientation\": \"v\", \"showlegend\": true, \"type\": \"scatter\", \"x\": [\"Iran\"], \"xaxis\": \"x\", \"y\": [273788], \"yaxis\": \"y\"}, {\"hovertemplate\": \"<b>%{hovertext}</b><br><br>country=%{x}<br>confirmed=%{marker.size}<extra></extra>\", \"hovertext\": [\"Pakistan\"], \"legendgroup\": \"Pakistan\", \"marker\": {\"color\": \"#636efa\", \"size\": [265083], \"sizemode\": \"area\", \"sizeref\": 1048.1277777777777, \"symbol\": \"circle\"}, \"mode\": \"markers\", \"name\": \"Pakistan\", \"orientation\": \"v\", \"showlegend\": true, \"type\": \"scatter\", \"x\": [\"Pakistan\"], \"xaxis\": \"x\", \"y\": [265083], \"yaxis\": \"y\"}, {\"hovertemplate\": \"<b>%{hovertext}</b><br><br>country=%{x}<br>confirmed=%{marker.size}<extra></extra>\", \"hovertext\": [\"Spain\"], \"legendgroup\": \"Spain\", \"marker\": {\"color\": \"#EF553B\", \"size\": [260255], \"sizemode\": \"area\", \"sizeref\": 1048.1277777777777, \"symbol\": \"circle\"}, \"mode\": \"markers\", \"name\": \"Spain\", \"orientation\": \"v\", \"showlegend\": true, \"type\": \"scatter\", \"x\": [\"Spain\"], \"xaxis\": \"x\", \"y\": [260255], \"yaxis\": \"y\"}, {\"hovertemplate\": \"<b>%{hovertext}</b><br><br>country=%{x}<br>confirmed=%{marker.size}<extra></extra>\", \"hovertext\": [\"Saudi Arabia\"], \"legendgroup\": \"Saudi Arabia\", \"marker\": {\"color\": \"#00cc96\", \"size\": [250920], \"sizemode\": \"area\", \"sizeref\": 1048.1277777777777, \"symbol\": \"circle\"}, \"mode\": \"markers\", \"name\": \"Saudi Arabia\", \"orientation\": \"v\", \"showlegend\": true, \"type\": \"scatter\", \"x\": [\"Saudi Arabia\"], \"xaxis\": \"x\", \"y\": [250920], \"yaxis\": \"y\"}, {\"hovertemplate\": \"<b>%{hovertext}</b><br><br>country=%{x}<br>confirmed=%{marker.size}<extra></extra>\", \"hovertext\": [\"Italy\"], \"legendgroup\": \"Italy\", \"marker\": {\"color\": \"#ab63fa\", \"size\": [244434], \"sizemode\": \"area\", \"sizeref\": 1048.1277777777777, \"symbol\": \"circle\"}, \"mode\": \"markers\", \"name\": \"Italy\", \"orientation\": \"v\", \"showlegend\": true, \"type\": \"scatter\", \"x\": [\"Italy\"], \"xaxis\": \"x\", \"y\": [244434], \"yaxis\": \"y\"}, {\"hovertemplate\": \"<b>%{hovertext}</b><br><br>country=%{x}<br>confirmed=%{marker.size}<extra></extra>\", \"hovertext\": [\"Turkey\"], \"legendgroup\": \"Turkey\", \"marker\": {\"color\": \"#FFA15A\", \"size\": [219641], \"sizemode\": \"area\", \"sizeref\": 1048.1277777777777, \"symbol\": \"circle\"}, \"mode\": \"markers\", \"name\": \"Turkey\", \"orientation\": \"v\", \"showlegend\": true, \"type\": \"scatter\", \"x\": [\"Turkey\"], \"xaxis\": \"x\", \"y\": [219641], \"yaxis\": \"y\"}],\n",
       "                        {\"legend\": {\"itemsizing\": \"constant\", \"title\": {\"text\": \"country\"}, \"tracegroupgap\": 0}, \"margin\": {\"t\": 60}, \"template\": {\"data\": {\"bar\": [{\"error_x\": {\"color\": \"#2a3f5f\"}, \"error_y\": {\"color\": \"#2a3f5f\"}, \"marker\": {\"line\": {\"color\": \"#E5ECF6\", \"width\": 0.5}}, \"type\": \"bar\"}], \"barpolar\": [{\"marker\": {\"line\": {\"color\": \"#E5ECF6\", \"width\": 0.5}}, \"type\": \"barpolar\"}], \"carpet\": [{\"aaxis\": {\"endlinecolor\": \"#2a3f5f\", \"gridcolor\": \"white\", \"linecolor\": \"white\", \"minorgridcolor\": \"white\", \"startlinecolor\": \"#2a3f5f\"}, \"baxis\": {\"endlinecolor\": \"#2a3f5f\", \"gridcolor\": \"white\", \"linecolor\": \"white\", \"minorgridcolor\": \"white\", \"startlinecolor\": \"#2a3f5f\"}, \"type\": \"carpet\"}], \"choropleth\": [{\"colorbar\": {\"outlinewidth\": 0, \"ticks\": \"\"}, \"type\": \"choropleth\"}], \"contour\": [{\"colorbar\": {\"outlinewidth\": 0, \"ticks\": \"\"}, \"colorscale\": [[0.0, \"#0d0887\"], [0.1111111111111111, \"#46039f\"], [0.2222222222222222, \"#7201a8\"], [0.3333333333333333, \"#9c179e\"], [0.4444444444444444, \"#bd3786\"], [0.5555555555555556, \"#d8576b\"], [0.6666666666666666, \"#ed7953\"], [0.7777777777777778, \"#fb9f3a\"], [0.8888888888888888, \"#fdca26\"], [1.0, \"#f0f921\"]], \"type\": \"contour\"}], \"contourcarpet\": [{\"colorbar\": {\"outlinewidth\": 0, \"ticks\": \"\"}, \"type\": \"contourcarpet\"}], \"heatmap\": [{\"colorbar\": {\"outlinewidth\": 0, \"ticks\": \"\"}, \"colorscale\": [[0.0, \"#0d0887\"], [0.1111111111111111, \"#46039f\"], [0.2222222222222222, \"#7201a8\"], [0.3333333333333333, \"#9c179e\"], [0.4444444444444444, \"#bd3786\"], [0.5555555555555556, \"#d8576b\"], [0.6666666666666666, \"#ed7953\"], [0.7777777777777778, \"#fb9f3a\"], [0.8888888888888888, \"#fdca26\"], [1.0, \"#f0f921\"]], \"type\": \"heatmap\"}], \"heatmapgl\": [{\"colorbar\": {\"outlinewidth\": 0, \"ticks\": \"\"}, \"colorscale\": [[0.0, \"#0d0887\"], [0.1111111111111111, \"#46039f\"], [0.2222222222222222, \"#7201a8\"], [0.3333333333333333, \"#9c179e\"], [0.4444444444444444, \"#bd3786\"], [0.5555555555555556, \"#d8576b\"], [0.6666666666666666, \"#ed7953\"], [0.7777777777777778, \"#fb9f3a\"], [0.8888888888888888, \"#fdca26\"], [1.0, \"#f0f921\"]], \"type\": \"heatmapgl\"}], \"histogram\": [{\"marker\": {\"colorbar\": {\"outlinewidth\": 0, \"ticks\": \"\"}}, \"type\": \"histogram\"}], \"histogram2d\": [{\"colorbar\": {\"outlinewidth\": 0, \"ticks\": \"\"}, \"colorscale\": [[0.0, \"#0d0887\"], [0.1111111111111111, \"#46039f\"], [0.2222222222222222, \"#7201a8\"], [0.3333333333333333, \"#9c179e\"], [0.4444444444444444, \"#bd3786\"], [0.5555555555555556, \"#d8576b\"], [0.6666666666666666, \"#ed7953\"], [0.7777777777777778, \"#fb9f3a\"], [0.8888888888888888, \"#fdca26\"], [1.0, \"#f0f921\"]], \"type\": \"histogram2d\"}], \"histogram2dcontour\": [{\"colorbar\": {\"outlinewidth\": 0, \"ticks\": \"\"}, \"colorscale\": [[0.0, \"#0d0887\"], [0.1111111111111111, \"#46039f\"], [0.2222222222222222, \"#7201a8\"], [0.3333333333333333, \"#9c179e\"], [0.4444444444444444, \"#bd3786\"], [0.5555555555555556, \"#d8576b\"], [0.6666666666666666, \"#ed7953\"], [0.7777777777777778, \"#fb9f3a\"], [0.8888888888888888, \"#fdca26\"], [1.0, \"#f0f921\"]], \"type\": \"histogram2dcontour\"}], \"mesh3d\": [{\"colorbar\": {\"outlinewidth\": 0, \"ticks\": \"\"}, \"type\": \"mesh3d\"}], \"parcoords\": [{\"line\": {\"colorbar\": {\"outlinewidth\": 0, \"ticks\": \"\"}}, \"type\": \"parcoords\"}], \"pie\": [{\"automargin\": true, \"type\": \"pie\"}], \"scatter\": [{\"marker\": {\"colorbar\": {\"outlinewidth\": 0, \"ticks\": \"\"}}, \"type\": \"scatter\"}], \"scatter3d\": [{\"line\": {\"colorbar\": {\"outlinewidth\": 0, \"ticks\": \"\"}}, \"marker\": {\"colorbar\": {\"outlinewidth\": 0, \"ticks\": \"\"}}, \"type\": \"scatter3d\"}], \"scattercarpet\": [{\"marker\": {\"colorbar\": {\"outlinewidth\": 0, \"ticks\": \"\"}}, \"type\": \"scattercarpet\"}], \"scattergeo\": [{\"marker\": {\"colorbar\": {\"outlinewidth\": 0, \"ticks\": \"\"}}, \"type\": \"scattergeo\"}], \"scattergl\": [{\"marker\": {\"colorbar\": {\"outlinewidth\": 0, \"ticks\": \"\"}}, \"type\": \"scattergl\"}], \"scattermapbox\": [{\"marker\": {\"colorbar\": {\"outlinewidth\": 0, \"ticks\": \"\"}}, \"type\": \"scattermapbox\"}], \"scatterpolar\": [{\"marker\": {\"colorbar\": {\"outlinewidth\": 0, \"ticks\": \"\"}}, \"type\": \"scatterpolar\"}], \"scatterpolargl\": [{\"marker\": {\"colorbar\": {\"outlinewidth\": 0, \"ticks\": \"\"}}, \"type\": \"scatterpolargl\"}], \"scatterternary\": [{\"marker\": {\"colorbar\": {\"outlinewidth\": 0, \"ticks\": \"\"}}, \"type\": \"scatterternary\"}], \"surface\": [{\"colorbar\": {\"outlinewidth\": 0, \"ticks\": \"\"}, \"colorscale\": [[0.0, \"#0d0887\"], [0.1111111111111111, \"#46039f\"], [0.2222222222222222, \"#7201a8\"], [0.3333333333333333, \"#9c179e\"], [0.4444444444444444, \"#bd3786\"], [0.5555555555555556, \"#d8576b\"], [0.6666666666666666, \"#ed7953\"], [0.7777777777777778, \"#fb9f3a\"], [0.8888888888888888, \"#fdca26\"], [1.0, \"#f0f921\"]], \"type\": \"surface\"}], \"table\": [{\"cells\": {\"fill\": {\"color\": \"#EBF0F8\"}, \"line\": {\"color\": \"white\"}}, \"header\": {\"fill\": {\"color\": \"#C8D4E3\"}, \"line\": {\"color\": \"white\"}}, \"type\": \"table\"}]}, \"layout\": {\"annotationdefaults\": {\"arrowcolor\": \"#2a3f5f\", \"arrowhead\": 0, \"arrowwidth\": 1}, \"coloraxis\": {\"colorbar\": {\"outlinewidth\": 0, \"ticks\": \"\"}}, \"colorscale\": {\"diverging\": [[0, \"#8e0152\"], [0.1, \"#c51b7d\"], [0.2, \"#de77ae\"], [0.3, \"#f1b6da\"], [0.4, \"#fde0ef\"], [0.5, \"#f7f7f7\"], [0.6, \"#e6f5d0\"], [0.7, \"#b8e186\"], [0.8, \"#7fbc41\"], [0.9, \"#4d9221\"], [1, \"#276419\"]], \"sequential\": [[0.0, \"#0d0887\"], [0.1111111111111111, \"#46039f\"], [0.2222222222222222, \"#7201a8\"], [0.3333333333333333, \"#9c179e\"], [0.4444444444444444, \"#bd3786\"], [0.5555555555555556, \"#d8576b\"], [0.6666666666666666, \"#ed7953\"], [0.7777777777777778, \"#fb9f3a\"], [0.8888888888888888, \"#fdca26\"], [1.0, \"#f0f921\"]], \"sequentialminus\": [[0.0, \"#0d0887\"], [0.1111111111111111, \"#46039f\"], [0.2222222222222222, \"#7201a8\"], [0.3333333333333333, \"#9c179e\"], [0.4444444444444444, \"#bd3786\"], [0.5555555555555556, \"#d8576b\"], [0.6666666666666666, \"#ed7953\"], [0.7777777777777778, \"#fb9f3a\"], [0.8888888888888888, \"#fdca26\"], [1.0, \"#f0f921\"]]}, \"colorway\": [\"#636efa\", \"#EF553B\", \"#00cc96\", \"#ab63fa\", \"#FFA15A\", \"#19d3f3\", \"#FF6692\", \"#B6E880\", \"#FF97FF\", \"#FECB52\"], \"font\": {\"color\": \"#2a3f5f\"}, \"geo\": {\"bgcolor\": \"white\", \"lakecolor\": \"white\", \"landcolor\": \"#E5ECF6\", \"showlakes\": true, \"showland\": true, \"subunitcolor\": \"white\"}, \"hoverlabel\": {\"align\": \"left\"}, \"hovermode\": \"closest\", \"mapbox\": {\"style\": \"light\"}, \"paper_bgcolor\": \"white\", \"plot_bgcolor\": \"#E5ECF6\", \"polar\": {\"angularaxis\": {\"gridcolor\": \"white\", \"linecolor\": \"white\", \"ticks\": \"\"}, \"bgcolor\": \"#E5ECF6\", \"radialaxis\": {\"gridcolor\": \"white\", \"linecolor\": \"white\", \"ticks\": \"\"}}, \"scene\": {\"xaxis\": {\"backgroundcolor\": \"#E5ECF6\", \"gridcolor\": \"white\", \"gridwidth\": 2, \"linecolor\": \"white\", \"showbackground\": true, \"ticks\": \"\", \"zerolinecolor\": \"white\"}, \"yaxis\": {\"backgroundcolor\": \"#E5ECF6\", \"gridcolor\": \"white\", \"gridwidth\": 2, \"linecolor\": \"white\", \"showbackground\": true, \"ticks\": \"\", \"zerolinecolor\": \"white\"}, \"zaxis\": {\"backgroundcolor\": \"#E5ECF6\", \"gridcolor\": \"white\", \"gridwidth\": 2, \"linecolor\": \"white\", \"showbackground\": true, \"ticks\": \"\", \"zerolinecolor\": \"white\"}}, \"shapedefaults\": {\"line\": {\"color\": \"#2a3f5f\"}}, \"ternary\": {\"aaxis\": {\"gridcolor\": \"white\", \"linecolor\": \"white\", \"ticks\": \"\"}, \"baxis\": {\"gridcolor\": \"white\", \"linecolor\": \"white\", \"ticks\": \"\"}, \"bgcolor\": \"#E5ECF6\", \"caxis\": {\"gridcolor\": \"white\", \"linecolor\": \"white\", \"ticks\": \"\"}}, \"title\": {\"x\": 0.05}, \"xaxis\": {\"automargin\": true, \"gridcolor\": \"white\", \"linecolor\": \"white\", \"ticks\": \"\", \"title\": {\"standoff\": 15}, \"zerolinecolor\": \"white\", \"zerolinewidth\": 2}, \"yaxis\": {\"automargin\": true, \"gridcolor\": \"white\", \"linecolor\": \"white\", \"ticks\": \"\", \"title\": {\"standoff\": 15}, \"zerolinecolor\": \"white\", \"zerolinewidth\": 2}}}, \"xaxis\": {\"anchor\": \"y\", \"categoryarray\": [\"US\", \"Brazil\", \"India\", \"Russia\", \"South Africa\", \"Peru\", \"Mexico\", \"Chile\", \"United Kingdom\", \"Iran\", \"Pakistan\", \"Spain\", \"Saudi Arabia\", \"Italy\", \"Turkey\"], \"categoryorder\": \"array\", \"domain\": [0.0, 1.0], \"title\": {\"text\": \"country\"}}, \"yaxis\": {\"anchor\": \"x\", \"domain\": [0.0, 1.0], \"title\": {\"text\": \"confirmed\"}}},\n",
       "                        {\"responsive\": true}\n",
       "                    ).then(function(){\n",
       "                            \n",
       "var gd = document.getElementById('91760117-6893-4df6-8518-dc1ac67d2a82');\n",
       "var x = new MutationObserver(function (mutations, observer) {{\n",
       "        var display = window.getComputedStyle(gd).display;\n",
       "        if (!display || display === 'none') {{\n",
       "            console.log([gd, 'removed!']);\n",
       "            Plotly.purge(gd);\n",
       "            observer.disconnect();\n",
       "        }}\n",
       "}});\n",
       "\n",
       "// Listen for the removal of the full notebook cells\n",
       "var notebookContainer = gd.closest('#notebook-container');\n",
       "if (notebookContainer) {{\n",
       "    x.observe(notebookContainer, {childList: true});\n",
       "}}\n",
       "\n",
       "// Listen for the clearing of the current output cell\n",
       "var outputEl = gd.closest('.output');\n",
       "if (outputEl) {{\n",
       "    x.observe(outputEl, {childList: true});\n",
       "}}\n",
       "\n",
       "                        })\n",
       "                };\n",
       "                });\n",
       "            </script>\n",
       "        </div>"
      ]
     },
     "metadata": {},
     "output_type": "display_data"
    }
   ],
   "source": [
    "fig = px.scatter(df_general_sorted.head(15), x='country', y='confirmed', size='confirmed', color='country', hover_name='country', size_max=60)\n",
    "fig.update_layout()\n",
    "fig.show()"
   ]
  },
  {
   "cell_type": "markdown",
   "metadata": {},
   "source": [
    "<h1><center> World distribution of the COVID 19: </center></h1>\n",
    "\n",
    "<h2><center> Know how COVID-19 is spread </center></h2>\n",
    "\n",
    "- You can become infected by coming into close contact (about 6 feet or twoarm lengths) with a person who has COVID-19. COVID-19 is primarily spreadfrom person to person.\n",
    "\n",
    "- You can become infected from respiratory droplets when an infected person coughs, sneezes, or talks.\n",
    "\n",
    "- You may also be able to get it by touching a surface or object that has the virus on it, and then by touching your mouth, nose, or eyes."
   ]
  },
  {
   "cell_type": "code",
   "execution_count": 19,
   "metadata": {},
   "outputs": [],
   "source": [
    "import folium"
   ]
  },
  {
   "cell_type": "code",
   "execution_count": 20,
   "metadata": {
    "scrolled": true
   },
   "outputs": [
    {
     "data": {
      "text/html": [
       "<div style=\"width:100%;\"><div style=\"position:relative;width:100%;height:0;padding-bottom:60%;\"><span style=\"color:#565656\">Make this Notebook Trusted to load map: File -> Trust Notebook</span><iframe src=\"about:blank\" style=\"position:absolute;width:100%;height:100%;left:0;top:0;border:none !important;\" data-html=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 onload=\"this.contentDocument.open();this.contentDocument.write(atob(this.getAttribute('data-html')));this.contentDocument.close();\" allowfullscreen webkitallowfullscreen mozallowfullscreen></iframe></div></div>"
      ],
      "text/plain": [
       "<folium.folium.Map at 0x7f69a6d39950>"
      ]
     },
     "execution_count": 20,
     "metadata": {},
     "output_type": "execute_result"
    }
   ],
   "source": [
    "world_map = folium.Map(location=[11,0], tiles='cartodbpositron', zoom_start=2, max_zoom=6, min_zoom=2)\n",
    "\n",
    "for i in range(len(df_cases)):\n",
    "    folium.Circle(location=[df_cases.iloc[i]['lat'], df_cases.iloc[i]['long']],\n",
    "    fill=True,\n",
    "    radius=(int((np.log(df_cases.iloc[i,-1]+1.00001)))+0.2)*50000,\n",
    "    fill_color='crimson',\n",
    "    color='crimson',\n",
    "    tooltip = \"<div style='margin:0; background-color: firebrick; color: white;'>\" +\n",
    "                  \"<h4 style='text-align:center; font-weight: bold'>\" + df_cases.iloc[i]['country'] + \"</h4>\"\n",
    "                  \"<hr style='margin:10px; color: white;'>\" +\n",
    "                  \"<ul style='color: white;;list-style-type: circle; align-item: left; padding-left: 20px; padding-right:20px'>\" +\n",
    "                      \"<li>Total cases: \" + str(df_cases.iloc[i,-1]) + \"</li>\" +\n",
    "                      \"<li>Deaths: \" + str(df_deaths.iloc[i,-1]) + \"</li>\" +\n",
    "                      \"<li>Death rate : \" + str(np.round(df_deaths.iloc[i,-1]/(df_cases.iloc[i,-1]+1.00001)*100,2)) + \"% </li>\" +\n",
    "                      \"</ul></div>\",\n",
    "    ).add_to(world_map)\n",
    "    \n",
    "world_map"
   ]
  },
  {
   "cell_type": "markdown",
   "metadata": {},
   "source": [
    "* *Some countries may appear in the map separated by regions or provinces*"
   ]
  },
  {
   "cell_type": "code",
   "execution_count": 21,
   "metadata": {},
   "outputs": [
    {
     "data": {
      "application/vnd.plotly.v1+json": {
       "config": {
        "plotlyServerURL": "https://plot.ly"
       },
       "data": [
        {
         "alignmentgroup": "True",
         "hovertemplate": "country=Kyrgyzstan<br>Country=%{x}<br>% increase=%{y}<extra></extra>",
         "legendgroup": "Kyrgyzstan",
         "marker": {
          "color": "#636efa"
         },
         "name": "Kyrgyzstan",
         "offsetgroup": "Kyrgyzstan",
         "orientation": "v",
         "showlegend": true,
         "textposition": "auto",
         "type": "bar",
         "x": [
          "Kyrgyzstan"
         ],
         "xaxis": "x",
         "y": [
          144.16
         ],
         "yaxis": "y"
        },
        {
         "alignmentgroup": "True",
         "hovertemplate": "country=Montenegro<br>Country=%{x}<br>% increase=%{y}<extra></extra>",
         "legendgroup": "Montenegro",
         "marker": {
          "color": "#EF553B"
         },
         "name": "Montenegro",
         "offsetgroup": "Montenegro",
         "orientation": "v",
         "showlegend": true,
         "textposition": "auto",
         "type": "bar",
         "x": [
          "Montenegro"
         ],
         "xaxis": "x",
         "y": [
          79.2
         ],
         "yaxis": "y"
        },
        {
         "alignmentgroup": "True",
         "hovertemplate": "country=Zimbabwe<br>Country=%{x}<br>% increase=%{y}<extra></extra>",
         "legendgroup": "Zimbabwe",
         "marker": {
          "color": "#00cc96"
         },
         "name": "Zimbabwe",
         "offsetgroup": "Zimbabwe",
         "orientation": "v",
         "showlegend": true,
         "textposition": "auto",
         "type": "bar",
         "x": [
          "Zimbabwe"
         ],
         "xaxis": "x",
         "y": [
          63.55
         ],
         "yaxis": "y"
        },
        {
         "alignmentgroup": "True",
         "hovertemplate": "country=Burundi<br>Country=%{x}<br>% increase=%{y}<extra></extra>",
         "legendgroup": "Burundi",
         "marker": {
          "color": "#ab63fa"
         },
         "name": "Burundi",
         "offsetgroup": "Burundi",
         "orientation": "v",
         "showlegend": true,
         "textposition": "auto",
         "type": "bar",
         "x": [
          "Burundi"
         ],
         "xaxis": "x",
         "y": [
          62.3
         ],
         "yaxis": "y"
        },
        {
         "alignmentgroup": "True",
         "hovertemplate": "country=Namibia<br>Country=%{x}<br>% increase=%{y}<extra></extra>",
         "legendgroup": "Namibia",
         "marker": {
          "color": "#FFA15A"
         },
         "name": "Namibia",
         "offsetgroup": "Namibia",
         "orientation": "v",
         "showlegend": true,
         "textposition": "auto",
         "type": "bar",
         "x": [
          "Namibia"
         ],
         "xaxis": "x",
         "y": [
          58.85
         ],
         "yaxis": "y"
        },
        {
         "alignmentgroup": "True",
         "hovertemplate": "country=Zambia<br>Country=%{x}<br>% increase=%{y}<extra></extra>",
         "legendgroup": "Zambia",
         "marker": {
          "color": "#19d3f3"
         },
         "name": "Zambia",
         "offsetgroup": "Zambia",
         "orientation": "v",
         "showlegend": true,
         "textposition": "auto",
         "type": "bar",
         "x": [
          "Zambia"
         ],
         "xaxis": "x",
         "y": [
          57.26
         ],
         "yaxis": "y"
        },
        {
         "alignmentgroup": "True",
         "hovertemplate": "country=Lesotho<br>Country=%{x}<br>% increase=%{y}<extra></extra>",
         "legendgroup": "Lesotho",
         "marker": {
          "color": "#FF6692"
         },
         "name": "Lesotho",
         "offsetgroup": "Lesotho",
         "orientation": "v",
         "showlegend": true,
         "textposition": "auto",
         "type": "bar",
         "x": [
          "Lesotho"
         ],
         "xaxis": "x",
         "y": [
          54.08
         ],
         "yaxis": "y"
        },
        {
         "alignmentgroup": "True",
         "hovertemplate": "country=Costa Rica<br>Country=%{x}<br>% increase=%{y}<extra></extra>",
         "legendgroup": "Costa Rica",
         "marker": {
          "color": "#B6E880"
         },
         "name": "Costa Rica",
         "offsetgroup": "Costa Rica",
         "orientation": "v",
         "showlegend": true,
         "textposition": "auto",
         "type": "bar",
         "x": [
          "Costa Rica"
         ],
         "xaxis": "x",
         "y": [
          46.31
         ],
         "yaxis": "y"
        },
        {
         "alignmentgroup": "True",
         "hovertemplate": "country=Papua New Guinea<br>Country=%{x}<br>% increase=%{y}<extra></extra>",
         "legendgroup": "Papua New Guinea",
         "marker": {
          "color": "#FF97FF"
         },
         "name": "Papua New Guinea",
         "offsetgroup": "Papua New Guinea",
         "orientation": "v",
         "showlegend": true,
         "textposition": "auto",
         "type": "bar",
         "x": [
          "Papua New Guinea"
         ],
         "xaxis": "x",
         "y": [
          45.45
         ],
         "yaxis": "y"
        },
        {
         "alignmentgroup": "True",
         "hovertemplate": "country=Gambia<br>Country=%{x}<br>% increase=%{y}<extra></extra>",
         "legendgroup": "Gambia",
         "marker": {
          "color": "#FECB52"
         },
         "name": "Gambia",
         "offsetgroup": "Gambia",
         "orientation": "v",
         "showlegend": true,
         "textposition": "auto",
         "type": "bar",
         "x": [
          "Gambia"
         ],
         "xaxis": "x",
         "y": [
          45.31
         ],
         "yaxis": "y"
        },
        {
         "alignmentgroup": "True",
         "hovertemplate": "country=Madagascar<br>Country=%{x}<br>% increase=%{y}<extra></extra>",
         "legendgroup": "Madagascar",
         "marker": {
          "color": "#636efa"
         },
         "name": "Madagascar",
         "offsetgroup": "Madagascar",
         "orientation": "v",
         "showlegend": true,
         "textposition": "auto",
         "type": "bar",
         "x": [
          "Madagascar"
         ],
         "xaxis": "x",
         "y": [
          44.83
         ],
         "yaxis": "y"
        },
        {
         "alignmentgroup": "True",
         "hovertemplate": "country=Angola<br>Country=%{x}<br>% increase=%{y}<extra></extra>",
         "legendgroup": "Angola",
         "marker": {
          "color": "#EF553B"
         },
         "name": "Angola",
         "offsetgroup": "Angola",
         "orientation": "v",
         "showlegend": true,
         "textposition": "auto",
         "type": "bar",
         "x": [
          "Angola"
         ],
         "xaxis": "x",
         "y": [
          39.33
         ],
         "yaxis": "y"
        },
        {
         "alignmentgroup": "True",
         "hovertemplate": "country=Suriname<br>Country=%{x}<br>% increase=%{y}<extra></extra>",
         "legendgroup": "Suriname",
         "marker": {
          "color": "#00cc96"
         },
         "name": "Suriname",
         "offsetgroup": "Suriname",
         "orientation": "v",
         "showlegend": true,
         "textposition": "auto",
         "type": "bar",
         "x": [
          "Suriname"
         ],
         "xaxis": "x",
         "y": [
          38.87
         ],
         "yaxis": "y"
        },
        {
         "alignmentgroup": "True",
         "hovertemplate": "country=Bahamas<br>Country=%{x}<br>% increase=%{y}<extra></extra>",
         "legendgroup": "Bahamas",
         "marker": {
          "color": "#ab63fa"
         },
         "name": "Bahamas",
         "offsetgroup": "Bahamas",
         "orientation": "v",
         "showlegend": true,
         "textposition": "auto",
         "type": "bar",
         "x": [
          "Bahamas"
         ],
         "xaxis": "x",
         "y": [
          37.84
         ],
         "yaxis": "y"
        },
        {
         "alignmentgroup": "True",
         "hovertemplate": "country=West Bank and Gaza<br>Country=%{x}<br>% increase=%{y}<extra></extra>",
         "legendgroup": "West Bank and Gaza",
         "marker": {
          "color": "#FFA15A"
         },
         "name": "West Bank and Gaza",
         "offsetgroup": "West Bank and Gaza",
         "orientation": "v",
         "showlegend": true,
         "textposition": "auto",
         "type": "bar",
         "x": [
          "West Bank and Gaza"
         ],
         "xaxis": "x",
         "y": [
          37.22
         ],
         "yaxis": "y"
        }
       ],
       "layout": {
        "barmode": "relative",
        "legend": {
         "title": {
          "text": "country"
         },
         "tracegroupgap": 0
        },
        "template": {
         "data": {
          "bar": [
           {
            "error_x": {
             "color": "#2a3f5f"
            },
            "error_y": {
             "color": "#2a3f5f"
            },
            "marker": {
             "line": {
              "color": "#E5ECF6",
              "width": 0.5
             }
            },
            "type": "bar"
           }
          ],
          "barpolar": [
           {
            "marker": {
             "line": {
              "color": "#E5ECF6",
              "width": 0.5
             }
            },
            "type": "barpolar"
           }
          ],
          "carpet": [
           {
            "aaxis": {
             "endlinecolor": "#2a3f5f",
             "gridcolor": "white",
             "linecolor": "white",
             "minorgridcolor": "white",
             "startlinecolor": "#2a3f5f"
            },
            "baxis": {
             "endlinecolor": "#2a3f5f",
             "gridcolor": "white",
             "linecolor": "white",
             "minorgridcolor": "white",
             "startlinecolor": "#2a3f5f"
            },
            "type": "carpet"
           }
          ],
          "choropleth": [
           {
            "colorbar": {
             "outlinewidth": 0,
             "ticks": ""
            },
            "type": "choropleth"
           }
          ],
          "contour": [
           {
            "colorbar": {
             "outlinewidth": 0,
             "ticks": ""
            },
            "colorscale": [
             [
              0,
              "#0d0887"
             ],
             [
              0.1111111111111111,
              "#46039f"
             ],
             [
              0.2222222222222222,
              "#7201a8"
             ],
             [
              0.3333333333333333,
              "#9c179e"
             ],
             [
              0.4444444444444444,
              "#bd3786"
             ],
             [
              0.5555555555555556,
              "#d8576b"
             ],
             [
              0.6666666666666666,
              "#ed7953"
             ],
             [
              0.7777777777777778,
              "#fb9f3a"
             ],
             [
              0.8888888888888888,
              "#fdca26"
             ],
             [
              1,
              "#f0f921"
             ]
            ],
            "type": "contour"
           }
          ],
          "contourcarpet": [
           {
            "colorbar": {
             "outlinewidth": 0,
             "ticks": ""
            },
            "type": "contourcarpet"
           }
          ],
          "heatmap": [
           {
            "colorbar": {
             "outlinewidth": 0,
             "ticks": ""
            },
            "colorscale": [
             [
              0,
              "#0d0887"
             ],
             [
              0.1111111111111111,
              "#46039f"
             ],
             [
              0.2222222222222222,
              "#7201a8"
             ],
             [
              0.3333333333333333,
              "#9c179e"
             ],
             [
              0.4444444444444444,
              "#bd3786"
             ],
             [
              0.5555555555555556,
              "#d8576b"
             ],
             [
              0.6666666666666666,
              "#ed7953"
             ],
             [
              0.7777777777777778,
              "#fb9f3a"
             ],
             [
              0.8888888888888888,
              "#fdca26"
             ],
             [
              1,
              "#f0f921"
             ]
            ],
            "type": "heatmap"
           }
          ],
          "heatmapgl": [
           {
            "colorbar": {
             "outlinewidth": 0,
             "ticks": ""
            },
            "colorscale": [
             [
              0,
              "#0d0887"
             ],
             [
              0.1111111111111111,
              "#46039f"
             ],
             [
              0.2222222222222222,
              "#7201a8"
             ],
             [
              0.3333333333333333,
              "#9c179e"
             ],
             [
              0.4444444444444444,
              "#bd3786"
             ],
             [
              0.5555555555555556,
              "#d8576b"
             ],
             [
              0.6666666666666666,
              "#ed7953"
             ],
             [
              0.7777777777777778,
              "#fb9f3a"
             ],
             [
              0.8888888888888888,
              "#fdca26"
             ],
             [
              1,
              "#f0f921"
             ]
            ],
            "type": "heatmapgl"
           }
          ],
          "histogram": [
           {
            "marker": {
             "colorbar": {
              "outlinewidth": 0,
              "ticks": ""
             }
            },
            "type": "histogram"
           }
          ],
          "histogram2d": [
           {
            "colorbar": {
             "outlinewidth": 0,
             "ticks": ""
            },
            "colorscale": [
             [
              0,
              "#0d0887"
             ],
             [
              0.1111111111111111,
              "#46039f"
             ],
             [
              0.2222222222222222,
              "#7201a8"
             ],
             [
              0.3333333333333333,
              "#9c179e"
             ],
             [
              0.4444444444444444,
              "#bd3786"
             ],
             [
              0.5555555555555556,
              "#d8576b"
             ],
             [
              0.6666666666666666,
              "#ed7953"
             ],
             [
              0.7777777777777778,
              "#fb9f3a"
             ],
             [
              0.8888888888888888,
              "#fdca26"
             ],
             [
              1,
              "#f0f921"
             ]
            ],
            "type": "histogram2d"
           }
          ],
          "histogram2dcontour": [
           {
            "colorbar": {
             "outlinewidth": 0,
             "ticks": ""
            },
            "colorscale": [
             [
              0,
              "#0d0887"
             ],
             [
              0.1111111111111111,
              "#46039f"
             ],
             [
              0.2222222222222222,
              "#7201a8"
             ],
             [
              0.3333333333333333,
              "#9c179e"
             ],
             [
              0.4444444444444444,
              "#bd3786"
             ],
             [
              0.5555555555555556,
              "#d8576b"
             ],
             [
              0.6666666666666666,
              "#ed7953"
             ],
             [
              0.7777777777777778,
              "#fb9f3a"
             ],
             [
              0.8888888888888888,
              "#fdca26"
             ],
             [
              1,
              "#f0f921"
             ]
            ],
            "type": "histogram2dcontour"
           }
          ],
          "mesh3d": [
           {
            "colorbar": {
             "outlinewidth": 0,
             "ticks": ""
            },
            "type": "mesh3d"
           }
          ],
          "parcoords": [
           {
            "line": {
             "colorbar": {
              "outlinewidth": 0,
              "ticks": ""
             }
            },
            "type": "parcoords"
           }
          ],
          "pie": [
           {
            "automargin": true,
            "type": "pie"
           }
          ],
          "scatter": [
           {
            "marker": {
             "colorbar": {
              "outlinewidth": 0,
              "ticks": ""
             }
            },
            "type": "scatter"
           }
          ],
          "scatter3d": [
           {
            "line": {
             "colorbar": {
              "outlinewidth": 0,
              "ticks": ""
             }
            },
            "marker": {
             "colorbar": {
              "outlinewidth": 0,
              "ticks": ""
             }
            },
            "type": "scatter3d"
           }
          ],
          "scattercarpet": [
           {
            "marker": {
             "colorbar": {
              "outlinewidth": 0,
              "ticks": ""
             }
            },
            "type": "scattercarpet"
           }
          ],
          "scattergeo": [
           {
            "marker": {
             "colorbar": {
              "outlinewidth": 0,
              "ticks": ""
             }
            },
            "type": "scattergeo"
           }
          ],
          "scattergl": [
           {
            "marker": {
             "colorbar": {
              "outlinewidth": 0,
              "ticks": ""
             }
            },
            "type": "scattergl"
           }
          ],
          "scattermapbox": [
           {
            "marker": {
             "colorbar": {
              "outlinewidth": 0,
              "ticks": ""
             }
            },
            "type": "scattermapbox"
           }
          ],
          "scatterpolar": [
           {
            "marker": {
             "colorbar": {
              "outlinewidth": 0,
              "ticks": ""
             }
            },
            "type": "scatterpolar"
           }
          ],
          "scatterpolargl": [
           {
            "marker": {
             "colorbar": {
              "outlinewidth": 0,
              "ticks": ""
             }
            },
            "type": "scatterpolargl"
           }
          ],
          "scatterternary": [
           {
            "marker": {
             "colorbar": {
              "outlinewidth": 0,
              "ticks": ""
             }
            },
            "type": "scatterternary"
           }
          ],
          "surface": [
           {
            "colorbar": {
             "outlinewidth": 0,
             "ticks": ""
            },
            "colorscale": [
             [
              0,
              "#0d0887"
             ],
             [
              0.1111111111111111,
              "#46039f"
             ],
             [
              0.2222222222222222,
              "#7201a8"
             ],
             [
              0.3333333333333333,
              "#9c179e"
             ],
             [
              0.4444444444444444,
              "#bd3786"
             ],
             [
              0.5555555555555556,
              "#d8576b"
             ],
             [
              0.6666666666666666,
              "#ed7953"
             ],
             [
              0.7777777777777778,
              "#fb9f3a"
             ],
             [
              0.8888888888888888,
              "#fdca26"
             ],
             [
              1,
              "#f0f921"
             ]
            ],
            "type": "surface"
           }
          ],
          "table": [
           {
            "cells": {
             "fill": {
              "color": "#EBF0F8"
             },
             "line": {
              "color": "white"
             }
            },
            "header": {
             "fill": {
              "color": "#C8D4E3"
             },
             "line": {
              "color": "white"
             }
            },
            "type": "table"
           }
          ]
         },
         "layout": {
          "annotationdefaults": {
           "arrowcolor": "#2a3f5f",
           "arrowhead": 0,
           "arrowwidth": 1
          },
          "coloraxis": {
           "colorbar": {
            "outlinewidth": 0,
            "ticks": ""
           }
          },
          "colorscale": {
           "diverging": [
            [
             0,
             "#8e0152"
            ],
            [
             0.1,
             "#c51b7d"
            ],
            [
             0.2,
             "#de77ae"
            ],
            [
             0.3,
             "#f1b6da"
            ],
            [
             0.4,
             "#fde0ef"
            ],
            [
             0.5,
             "#f7f7f7"
            ],
            [
             0.6,
             "#e6f5d0"
            ],
            [
             0.7,
             "#b8e186"
            ],
            [
             0.8,
             "#7fbc41"
            ],
            [
             0.9,
             "#4d9221"
            ],
            [
             1,
             "#276419"
            ]
           ],
           "sequential": [
            [
             0,
             "#0d0887"
            ],
            [
             0.1111111111111111,
             "#46039f"
            ],
            [
             0.2222222222222222,
             "#7201a8"
            ],
            [
             0.3333333333333333,
             "#9c179e"
            ],
            [
             0.4444444444444444,
             "#bd3786"
            ],
            [
             0.5555555555555556,
             "#d8576b"
            ],
            [
             0.6666666666666666,
             "#ed7953"
            ],
            [
             0.7777777777777778,
             "#fb9f3a"
            ],
            [
             0.8888888888888888,
             "#fdca26"
            ],
            [
             1,
             "#f0f921"
            ]
           ],
           "sequentialminus": [
            [
             0,
             "#0d0887"
            ],
            [
             0.1111111111111111,
             "#46039f"
            ],
            [
             0.2222222222222222,
             "#7201a8"
            ],
            [
             0.3333333333333333,
             "#9c179e"
            ],
            [
             0.4444444444444444,
             "#bd3786"
            ],
            [
             0.5555555555555556,
             "#d8576b"
            ],
            [
             0.6666666666666666,
             "#ed7953"
            ],
            [
             0.7777777777777778,
             "#fb9f3a"
            ],
            [
             0.8888888888888888,
             "#fdca26"
            ],
            [
             1,
             "#f0f921"
            ]
           ]
          },
          "colorway": [
           "#636efa",
           "#EF553B",
           "#00cc96",
           "#ab63fa",
           "#FFA15A",
           "#19d3f3",
           "#FF6692",
           "#B6E880",
           "#FF97FF",
           "#FECB52"
          ],
          "font": {
           "color": "#2a3f5f"
          },
          "geo": {
           "bgcolor": "white",
           "lakecolor": "white",
           "landcolor": "#E5ECF6",
           "showlakes": true,
           "showland": true,
           "subunitcolor": "white"
          },
          "hoverlabel": {
           "align": "left"
          },
          "hovermode": "closest",
          "mapbox": {
           "style": "light"
          },
          "paper_bgcolor": "white",
          "plot_bgcolor": "#E5ECF6",
          "polar": {
           "angularaxis": {
            "gridcolor": "white",
            "linecolor": "white",
            "ticks": ""
           },
           "bgcolor": "#E5ECF6",
           "radialaxis": {
            "gridcolor": "white",
            "linecolor": "white",
            "ticks": ""
           }
          },
          "scene": {
           "xaxis": {
            "backgroundcolor": "#E5ECF6",
            "gridcolor": "white",
            "gridwidth": 2,
            "linecolor": "white",
            "showbackground": true,
            "ticks": "",
            "zerolinecolor": "white"
           },
           "yaxis": {
            "backgroundcolor": "#E5ECF6",
            "gridcolor": "white",
            "gridwidth": 2,
            "linecolor": "white",
            "showbackground": true,
            "ticks": "",
            "zerolinecolor": "white"
           },
           "zaxis": {
            "backgroundcolor": "#E5ECF6",
            "gridcolor": "white",
            "gridwidth": 2,
            "linecolor": "white",
            "showbackground": true,
            "ticks": "",
            "zerolinecolor": "white"
           }
          },
          "shapedefaults": {
           "line": {
            "color": "#2a3f5f"
           }
          },
          "ternary": {
           "aaxis": {
            "gridcolor": "white",
            "linecolor": "white",
            "ticks": ""
           },
           "baxis": {
            "gridcolor": "white",
            "linecolor": "white",
            "ticks": ""
           },
           "bgcolor": "#E5ECF6",
           "caxis": {
            "gridcolor": "white",
            "linecolor": "white",
            "ticks": ""
           }
          },
          "title": {
           "x": 0.05
          },
          "xaxis": {
           "automargin": true,
           "gridcolor": "white",
           "linecolor": "white",
           "ticks": "",
           "title": {
            "standoff": 15
           },
           "zerolinecolor": "white",
           "zerolinewidth": 2
          },
          "yaxis": {
           "automargin": true,
           "gridcolor": "white",
           "linecolor": "white",
           "ticks": "",
           "title": {
            "standoff": 15
           },
           "zerolinecolor": "white",
           "zerolinewidth": 2
          }
         }
        },
        "title": {
         "text": "Higher 1 week % increase"
        },
        "xaxis": {
         "anchor": "y",
         "domain": [
          0,
          1
         ],
         "title": {
          "text": "Country"
         }
        },
        "yaxis": {
         "anchor": "x",
         "domain": [
          0,
          1
         ],
         "title": {
          "text": "% increase"
         }
        }
       }
      },
      "text/html": [
       "<div>\n",
       "        \n",
       "        \n",
       "            <div id=\"c831a3df-16f4-43a3-bcae-6a4b7cb0e15a\" class=\"plotly-graph-div\" style=\"height:525px; width:100%;\"></div>\n",
       "            <script type=\"text/javascript\">\n",
       "                require([\"plotly\"], function(Plotly) {\n",
       "                    window.PLOTLYENV=window.PLOTLYENV || {};\n",
       "                    \n",
       "                if (document.getElementById(\"c831a3df-16f4-43a3-bcae-6a4b7cb0e15a\")) {\n",
       "                    Plotly.newPlot(\n",
       "                        'c831a3df-16f4-43a3-bcae-6a4b7cb0e15a',\n",
       "                        [{\"alignmentgroup\": \"True\", \"hovertemplate\": \"country=Kyrgyzstan<br>Country=%{x}<br>% increase=%{y}<extra></extra>\", \"legendgroup\": \"Kyrgyzstan\", \"marker\": {\"color\": \"#636efa\"}, \"name\": \"Kyrgyzstan\", \"offsetgroup\": \"Kyrgyzstan\", \"orientation\": \"v\", \"showlegend\": true, \"textposition\": \"auto\", \"type\": \"bar\", \"x\": [\"Kyrgyzstan\"], \"xaxis\": \"x\", \"y\": [144.16], \"yaxis\": \"y\"}, {\"alignmentgroup\": \"True\", \"hovertemplate\": \"country=Montenegro<br>Country=%{x}<br>% increase=%{y}<extra></extra>\", \"legendgroup\": \"Montenegro\", \"marker\": {\"color\": \"#EF553B\"}, \"name\": \"Montenegro\", \"offsetgroup\": \"Montenegro\", \"orientation\": \"v\", \"showlegend\": true, \"textposition\": \"auto\", \"type\": \"bar\", \"x\": [\"Montenegro\"], \"xaxis\": \"x\", \"y\": [79.2], \"yaxis\": \"y\"}, {\"alignmentgroup\": \"True\", \"hovertemplate\": \"country=Zimbabwe<br>Country=%{x}<br>% increase=%{y}<extra></extra>\", \"legendgroup\": \"Zimbabwe\", \"marker\": {\"color\": \"#00cc96\"}, \"name\": \"Zimbabwe\", \"offsetgroup\": \"Zimbabwe\", \"orientation\": \"v\", \"showlegend\": true, \"textposition\": \"auto\", \"type\": \"bar\", \"x\": [\"Zimbabwe\"], \"xaxis\": \"x\", \"y\": [63.55], \"yaxis\": \"y\"}, {\"alignmentgroup\": \"True\", \"hovertemplate\": \"country=Burundi<br>Country=%{x}<br>% increase=%{y}<extra></extra>\", \"legendgroup\": \"Burundi\", \"marker\": {\"color\": \"#ab63fa\"}, \"name\": \"Burundi\", \"offsetgroup\": \"Burundi\", \"orientation\": \"v\", \"showlegend\": true, \"textposition\": \"auto\", \"type\": \"bar\", \"x\": [\"Burundi\"], \"xaxis\": \"x\", \"y\": [62.3], \"yaxis\": \"y\"}, {\"alignmentgroup\": \"True\", \"hovertemplate\": \"country=Namibia<br>Country=%{x}<br>% increase=%{y}<extra></extra>\", \"legendgroup\": \"Namibia\", \"marker\": {\"color\": \"#FFA15A\"}, \"name\": \"Namibia\", \"offsetgroup\": \"Namibia\", \"orientation\": \"v\", \"showlegend\": true, \"textposition\": \"auto\", \"type\": \"bar\", \"x\": [\"Namibia\"], \"xaxis\": \"x\", \"y\": [58.85], \"yaxis\": \"y\"}, {\"alignmentgroup\": \"True\", \"hovertemplate\": \"country=Zambia<br>Country=%{x}<br>% increase=%{y}<extra></extra>\", \"legendgroup\": \"Zambia\", \"marker\": {\"color\": \"#19d3f3\"}, \"name\": \"Zambia\", \"offsetgroup\": \"Zambia\", \"orientation\": \"v\", \"showlegend\": true, \"textposition\": \"auto\", \"type\": \"bar\", \"x\": [\"Zambia\"], \"xaxis\": \"x\", \"y\": [57.26], \"yaxis\": \"y\"}, {\"alignmentgroup\": \"True\", \"hovertemplate\": \"country=Lesotho<br>Country=%{x}<br>% increase=%{y}<extra></extra>\", \"legendgroup\": \"Lesotho\", \"marker\": {\"color\": \"#FF6692\"}, \"name\": \"Lesotho\", \"offsetgroup\": \"Lesotho\", \"orientation\": \"v\", \"showlegend\": true, \"textposition\": \"auto\", \"type\": \"bar\", \"x\": [\"Lesotho\"], \"xaxis\": \"x\", \"y\": [54.08], \"yaxis\": \"y\"}, {\"alignmentgroup\": \"True\", \"hovertemplate\": \"country=Costa Rica<br>Country=%{x}<br>% increase=%{y}<extra></extra>\", \"legendgroup\": \"Costa Rica\", \"marker\": {\"color\": \"#B6E880\"}, \"name\": \"Costa Rica\", \"offsetgroup\": \"Costa Rica\", \"orientation\": \"v\", \"showlegend\": true, \"textposition\": \"auto\", \"type\": \"bar\", \"x\": [\"Costa Rica\"], \"xaxis\": \"x\", \"y\": [46.31], \"yaxis\": \"y\"}, {\"alignmentgroup\": \"True\", \"hovertemplate\": \"country=Papua New Guinea<br>Country=%{x}<br>% increase=%{y}<extra></extra>\", \"legendgroup\": \"Papua New Guinea\", \"marker\": {\"color\": \"#FF97FF\"}, \"name\": \"Papua New Guinea\", \"offsetgroup\": \"Papua New Guinea\", \"orientation\": \"v\", \"showlegend\": true, \"textposition\": \"auto\", \"type\": \"bar\", \"x\": [\"Papua New Guinea\"], \"xaxis\": \"x\", \"y\": [45.45], \"yaxis\": \"y\"}, {\"alignmentgroup\": \"True\", \"hovertemplate\": \"country=Gambia<br>Country=%{x}<br>% increase=%{y}<extra></extra>\", \"legendgroup\": \"Gambia\", \"marker\": {\"color\": \"#FECB52\"}, \"name\": \"Gambia\", \"offsetgroup\": \"Gambia\", \"orientation\": \"v\", \"showlegend\": true, \"textposition\": \"auto\", \"type\": \"bar\", \"x\": [\"Gambia\"], \"xaxis\": \"x\", \"y\": [45.31], \"yaxis\": \"y\"}, {\"alignmentgroup\": \"True\", \"hovertemplate\": \"country=Madagascar<br>Country=%{x}<br>% increase=%{y}<extra></extra>\", \"legendgroup\": \"Madagascar\", \"marker\": {\"color\": \"#636efa\"}, \"name\": \"Madagascar\", \"offsetgroup\": \"Madagascar\", \"orientation\": \"v\", \"showlegend\": true, \"textposition\": \"auto\", \"type\": \"bar\", \"x\": [\"Madagascar\"], \"xaxis\": \"x\", \"y\": [44.83], \"yaxis\": \"y\"}, {\"alignmentgroup\": \"True\", \"hovertemplate\": \"country=Angola<br>Country=%{x}<br>% increase=%{y}<extra></extra>\", \"legendgroup\": \"Angola\", \"marker\": {\"color\": \"#EF553B\"}, \"name\": \"Angola\", \"offsetgroup\": \"Angola\", \"orientation\": \"v\", \"showlegend\": true, \"textposition\": \"auto\", \"type\": \"bar\", \"x\": [\"Angola\"], \"xaxis\": \"x\", \"y\": [39.33], \"yaxis\": \"y\"}, {\"alignmentgroup\": \"True\", \"hovertemplate\": \"country=Suriname<br>Country=%{x}<br>% increase=%{y}<extra></extra>\", \"legendgroup\": \"Suriname\", \"marker\": {\"color\": \"#00cc96\"}, \"name\": \"Suriname\", \"offsetgroup\": \"Suriname\", \"orientation\": \"v\", \"showlegend\": true, \"textposition\": \"auto\", \"type\": \"bar\", \"x\": [\"Suriname\"], \"xaxis\": \"x\", \"y\": [38.87], \"yaxis\": \"y\"}, {\"alignmentgroup\": \"True\", \"hovertemplate\": \"country=Bahamas<br>Country=%{x}<br>% increase=%{y}<extra></extra>\", \"legendgroup\": \"Bahamas\", \"marker\": {\"color\": \"#ab63fa\"}, \"name\": \"Bahamas\", \"offsetgroup\": \"Bahamas\", \"orientation\": \"v\", \"showlegend\": true, \"textposition\": \"auto\", \"type\": \"bar\", \"x\": [\"Bahamas\"], \"xaxis\": \"x\", \"y\": [37.84], \"yaxis\": \"y\"}, {\"alignmentgroup\": \"True\", \"hovertemplate\": \"country=West Bank and Gaza<br>Country=%{x}<br>% increase=%{y}<extra></extra>\", \"legendgroup\": \"West Bank and Gaza\", \"marker\": {\"color\": \"#FFA15A\"}, \"name\": \"West Bank and Gaza\", \"offsetgroup\": \"West Bank and Gaza\", \"orientation\": \"v\", \"showlegend\": true, \"textposition\": \"auto\", \"type\": \"bar\", \"x\": [\"West Bank and Gaza\"], \"xaxis\": \"x\", \"y\": [37.22], \"yaxis\": \"y\"}],\n",
       "                        {\"barmode\": \"relative\", \"legend\": {\"title\": {\"text\": \"country\"}, \"tracegroupgap\": 0}, \"template\": {\"data\": {\"bar\": [{\"error_x\": {\"color\": \"#2a3f5f\"}, \"error_y\": {\"color\": \"#2a3f5f\"}, \"marker\": {\"line\": {\"color\": \"#E5ECF6\", \"width\": 0.5}}, \"type\": \"bar\"}], \"barpolar\": [{\"marker\": {\"line\": {\"color\": \"#E5ECF6\", \"width\": 0.5}}, \"type\": \"barpolar\"}], \"carpet\": [{\"aaxis\": {\"endlinecolor\": \"#2a3f5f\", \"gridcolor\": \"white\", \"linecolor\": \"white\", \"minorgridcolor\": \"white\", \"startlinecolor\": \"#2a3f5f\"}, \"baxis\": {\"endlinecolor\": \"#2a3f5f\", \"gridcolor\": \"white\", \"linecolor\": \"white\", \"minorgridcolor\": \"white\", \"startlinecolor\": \"#2a3f5f\"}, \"type\": \"carpet\"}], \"choropleth\": [{\"colorbar\": {\"outlinewidth\": 0, \"ticks\": \"\"}, \"type\": \"choropleth\"}], \"contour\": [{\"colorbar\": {\"outlinewidth\": 0, \"ticks\": \"\"}, \"colorscale\": [[0.0, \"#0d0887\"], [0.1111111111111111, \"#46039f\"], [0.2222222222222222, \"#7201a8\"], [0.3333333333333333, \"#9c179e\"], [0.4444444444444444, \"#bd3786\"], [0.5555555555555556, \"#d8576b\"], [0.6666666666666666, \"#ed7953\"], [0.7777777777777778, \"#fb9f3a\"], [0.8888888888888888, \"#fdca26\"], [1.0, \"#f0f921\"]], \"type\": \"contour\"}], \"contourcarpet\": [{\"colorbar\": {\"outlinewidth\": 0, \"ticks\": \"\"}, \"type\": \"contourcarpet\"}], \"heatmap\": [{\"colorbar\": {\"outlinewidth\": 0, \"ticks\": \"\"}, \"colorscale\": [[0.0, \"#0d0887\"], [0.1111111111111111, \"#46039f\"], [0.2222222222222222, \"#7201a8\"], [0.3333333333333333, \"#9c179e\"], [0.4444444444444444, \"#bd3786\"], [0.5555555555555556, \"#d8576b\"], [0.6666666666666666, \"#ed7953\"], [0.7777777777777778, \"#fb9f3a\"], [0.8888888888888888, \"#fdca26\"], [1.0, \"#f0f921\"]], \"type\": \"heatmap\"}], \"heatmapgl\": [{\"colorbar\": {\"outlinewidth\": 0, \"ticks\": \"\"}, \"colorscale\": [[0.0, \"#0d0887\"], [0.1111111111111111, \"#46039f\"], [0.2222222222222222, \"#7201a8\"], [0.3333333333333333, \"#9c179e\"], [0.4444444444444444, \"#bd3786\"], [0.5555555555555556, \"#d8576b\"], [0.6666666666666666, \"#ed7953\"], [0.7777777777777778, \"#fb9f3a\"], [0.8888888888888888, \"#fdca26\"], [1.0, \"#f0f921\"]], \"type\": \"heatmapgl\"}], \"histogram\": [{\"marker\": {\"colorbar\": {\"outlinewidth\": 0, \"ticks\": \"\"}}, \"type\": \"histogram\"}], \"histogram2d\": [{\"colorbar\": {\"outlinewidth\": 0, \"ticks\": \"\"}, \"colorscale\": [[0.0, \"#0d0887\"], [0.1111111111111111, \"#46039f\"], [0.2222222222222222, \"#7201a8\"], [0.3333333333333333, \"#9c179e\"], [0.4444444444444444, \"#bd3786\"], [0.5555555555555556, \"#d8576b\"], [0.6666666666666666, \"#ed7953\"], [0.7777777777777778, \"#fb9f3a\"], [0.8888888888888888, \"#fdca26\"], [1.0, \"#f0f921\"]], \"type\": \"histogram2d\"}], \"histogram2dcontour\": [{\"colorbar\": {\"outlinewidth\": 0, \"ticks\": \"\"}, \"colorscale\": [[0.0, \"#0d0887\"], [0.1111111111111111, \"#46039f\"], [0.2222222222222222, \"#7201a8\"], [0.3333333333333333, \"#9c179e\"], [0.4444444444444444, \"#bd3786\"], [0.5555555555555556, \"#d8576b\"], [0.6666666666666666, \"#ed7953\"], [0.7777777777777778, \"#fb9f3a\"], [0.8888888888888888, \"#fdca26\"], [1.0, \"#f0f921\"]], \"type\": \"histogram2dcontour\"}], \"mesh3d\": [{\"colorbar\": {\"outlinewidth\": 0, \"ticks\": \"\"}, \"type\": \"mesh3d\"}], \"parcoords\": [{\"line\": {\"colorbar\": {\"outlinewidth\": 0, \"ticks\": \"\"}}, \"type\": \"parcoords\"}], \"pie\": [{\"automargin\": true, \"type\": \"pie\"}], \"scatter\": [{\"marker\": {\"colorbar\": {\"outlinewidth\": 0, \"ticks\": \"\"}}, \"type\": \"scatter\"}], \"scatter3d\": [{\"line\": {\"colorbar\": {\"outlinewidth\": 0, \"ticks\": \"\"}}, \"marker\": {\"colorbar\": {\"outlinewidth\": 0, \"ticks\": \"\"}}, \"type\": \"scatter3d\"}], \"scattercarpet\": [{\"marker\": {\"colorbar\": {\"outlinewidth\": 0, \"ticks\": \"\"}}, \"type\": \"scattercarpet\"}], \"scattergeo\": [{\"marker\": {\"colorbar\": {\"outlinewidth\": 0, \"ticks\": \"\"}}, \"type\": \"scattergeo\"}], \"scattergl\": [{\"marker\": {\"colorbar\": {\"outlinewidth\": 0, \"ticks\": \"\"}}, \"type\": \"scattergl\"}], \"scattermapbox\": [{\"marker\": {\"colorbar\": {\"outlinewidth\": 0, \"ticks\": \"\"}}, \"type\": \"scattermapbox\"}], \"scatterpolar\": [{\"marker\": {\"colorbar\": {\"outlinewidth\": 0, \"ticks\": \"\"}}, \"type\": \"scatterpolar\"}], \"scatterpolargl\": [{\"marker\": {\"colorbar\": {\"outlinewidth\": 0, \"ticks\": \"\"}}, \"type\": \"scatterpolargl\"}], \"scatterternary\": [{\"marker\": {\"colorbar\": {\"outlinewidth\": 0, \"ticks\": \"\"}}, \"type\": \"scatterternary\"}], \"surface\": [{\"colorbar\": {\"outlinewidth\": 0, \"ticks\": \"\"}, \"colorscale\": [[0.0, \"#0d0887\"], [0.1111111111111111, \"#46039f\"], [0.2222222222222222, \"#7201a8\"], [0.3333333333333333, \"#9c179e\"], [0.4444444444444444, \"#bd3786\"], [0.5555555555555556, \"#d8576b\"], [0.6666666666666666, \"#ed7953\"], [0.7777777777777778, \"#fb9f3a\"], [0.8888888888888888, \"#fdca26\"], [1.0, \"#f0f921\"]], \"type\": \"surface\"}], \"table\": [{\"cells\": {\"fill\": {\"color\": \"#EBF0F8\"}, \"line\": {\"color\": \"white\"}}, \"header\": {\"fill\": {\"color\": \"#C8D4E3\"}, \"line\": {\"color\": \"white\"}}, \"type\": \"table\"}]}, \"layout\": {\"annotationdefaults\": {\"arrowcolor\": \"#2a3f5f\", \"arrowhead\": 0, \"arrowwidth\": 1}, \"coloraxis\": {\"colorbar\": {\"outlinewidth\": 0, \"ticks\": \"\"}}, \"colorscale\": {\"diverging\": [[0, \"#8e0152\"], [0.1, \"#c51b7d\"], [0.2, \"#de77ae\"], [0.3, \"#f1b6da\"], [0.4, \"#fde0ef\"], [0.5, \"#f7f7f7\"], [0.6, \"#e6f5d0\"], [0.7, \"#b8e186\"], [0.8, \"#7fbc41\"], [0.9, \"#4d9221\"], [1, \"#276419\"]], \"sequential\": [[0.0, \"#0d0887\"], [0.1111111111111111, \"#46039f\"], [0.2222222222222222, \"#7201a8\"], [0.3333333333333333, \"#9c179e\"], [0.4444444444444444, \"#bd3786\"], [0.5555555555555556, \"#d8576b\"], [0.6666666666666666, \"#ed7953\"], [0.7777777777777778, \"#fb9f3a\"], [0.8888888888888888, \"#fdca26\"], [1.0, \"#f0f921\"]], \"sequentialminus\": [[0.0, \"#0d0887\"], [0.1111111111111111, \"#46039f\"], [0.2222222222222222, \"#7201a8\"], [0.3333333333333333, \"#9c179e\"], [0.4444444444444444, \"#bd3786\"], [0.5555555555555556, \"#d8576b\"], [0.6666666666666666, \"#ed7953\"], [0.7777777777777778, \"#fb9f3a\"], [0.8888888888888888, \"#fdca26\"], [1.0, \"#f0f921\"]]}, \"colorway\": [\"#636efa\", \"#EF553B\", \"#00cc96\", \"#ab63fa\", \"#FFA15A\", \"#19d3f3\", \"#FF6692\", \"#B6E880\", \"#FF97FF\", \"#FECB52\"], \"font\": {\"color\": \"#2a3f5f\"}, \"geo\": {\"bgcolor\": \"white\", \"lakecolor\": \"white\", \"landcolor\": \"#E5ECF6\", \"showlakes\": true, \"showland\": true, \"subunitcolor\": \"white\"}, \"hoverlabel\": {\"align\": \"left\"}, \"hovermode\": \"closest\", \"mapbox\": {\"style\": \"light\"}, \"paper_bgcolor\": \"white\", \"plot_bgcolor\": \"#E5ECF6\", \"polar\": {\"angularaxis\": {\"gridcolor\": \"white\", \"linecolor\": \"white\", \"ticks\": \"\"}, \"bgcolor\": \"#E5ECF6\", \"radialaxis\": {\"gridcolor\": \"white\", \"linecolor\": \"white\", \"ticks\": \"\"}}, \"scene\": {\"xaxis\": {\"backgroundcolor\": \"#E5ECF6\", \"gridcolor\": \"white\", \"gridwidth\": 2, \"linecolor\": \"white\", \"showbackground\": true, \"ticks\": \"\", \"zerolinecolor\": \"white\"}, \"yaxis\": {\"backgroundcolor\": \"#E5ECF6\", \"gridcolor\": \"white\", \"gridwidth\": 2, \"linecolor\": \"white\", \"showbackground\": true, \"ticks\": \"\", \"zerolinecolor\": \"white\"}, \"zaxis\": {\"backgroundcolor\": \"#E5ECF6\", \"gridcolor\": \"white\", \"gridwidth\": 2, \"linecolor\": \"white\", \"showbackground\": true, \"ticks\": \"\", \"zerolinecolor\": \"white\"}}, \"shapedefaults\": {\"line\": {\"color\": \"#2a3f5f\"}}, \"ternary\": {\"aaxis\": {\"gridcolor\": \"white\", \"linecolor\": \"white\", \"ticks\": \"\"}, \"baxis\": {\"gridcolor\": \"white\", \"linecolor\": \"white\", \"ticks\": \"\"}, \"bgcolor\": \"#E5ECF6\", \"caxis\": {\"gridcolor\": \"white\", \"linecolor\": \"white\", \"ticks\": \"\"}}, \"title\": {\"x\": 0.05}, \"xaxis\": {\"automargin\": true, \"gridcolor\": \"white\", \"linecolor\": \"white\", \"ticks\": \"\", \"title\": {\"standoff\": 15}, \"zerolinecolor\": \"white\", \"zerolinewidth\": 2}, \"yaxis\": {\"automargin\": true, \"gridcolor\": \"white\", \"linecolor\": \"white\", \"ticks\": \"\", \"title\": {\"standoff\": 15}, \"zerolinecolor\": \"white\", \"zerolinewidth\": 2}}}, \"title\": {\"text\": \"Higher 1 week % increase\"}, \"xaxis\": {\"anchor\": \"y\", \"domain\": [0.0, 1.0], \"title\": {\"text\": \"Country\"}}, \"yaxis\": {\"anchor\": \"x\", \"domain\": [0.0, 1.0], \"title\": {\"text\": \"% increase\"}}},\n",
       "                        {\"responsive\": true}\n",
       "                    ).then(function(){\n",
       "                            \n",
       "var gd = document.getElementById('c831a3df-16f4-43a3-bcae-6a4b7cb0e15a');\n",
       "var x = new MutationObserver(function (mutations, observer) {{\n",
       "        var display = window.getComputedStyle(gd).display;\n",
       "        if (!display || display === 'none') {{\n",
       "            console.log([gd, 'removed!']);\n",
       "            Plotly.purge(gd);\n",
       "            observer.disconnect();\n",
       "        }}\n",
       "}});\n",
       "\n",
       "// Listen for the removal of the full notebook cells\n",
       "var notebookContainer = gd.closest('#notebook-container');\n",
       "if (notebookContainer) {{\n",
       "    x.observe(notebookContainer, {childList: true});\n",
       "}}\n",
       "\n",
       "// Listen for the clearing of the current output cell\n",
       "var outputEl = gd.closest('.output');\n",
       "if (outputEl) {{\n",
       "    x.observe(outputEl, {childList: true});\n",
       "}}\n",
       "\n",
       "                        })\n",
       "                };\n",
       "                });\n",
       "            </script>\n",
       "        </div>"
      ]
     },
     "metadata": {},
     "output_type": "display_data"
    }
   ],
   "source": [
    "df_general_sorted = df_general.sort_values('1 week % increase', ascending=False)\n",
    "\n",
    "fig = px.bar(df_general_sorted, x=df_general_sorted['country'][:15], y=df_general_sorted['1 week % increase'][:15], title='Higher 1 week % increase', color=df_general_sorted['country'][:15],\n",
    "             labels={'x': 'Country', 'y': '% increase', 'color': 'country'})\n",
    "fig.show()"
   ]
  },
  {
   "cell_type": "markdown",
   "metadata": {},
   "source": [
    "<h2><center>Protect yourself and others from COVID-19</center></h2>"
   ]
  },
  {
   "cell_type": "markdown",
   "metadata": {},
   "source": [
    "- Stay home as much as possible and avoid close contact with others.\n",
    "- Wear a cloth face covering that covers your nose and mouth in public settings.\n",
    "- Clean and disinfect frequently touched surfaces\n",
    "- Wash your hands often with soap and water for at least 20 seconds, or use an alcohol-based hand sanitizer that contains at least 60% alcohol."
   ]
  },
  {
   "cell_type": "markdown",
   "metadata": {},
   "source": [
    "![](https://i.insider.com/5ef254c02618b9277d20f904?width=700&format=jpeg)"
   ]
  },
  {
   "cell_type": "markdown",
   "metadata": {},
   "source": [
    "<h2><center>Know your risk for severe illness</center></h2>\n",
    "\n",
    "<p><center>Everyone is at risk ofgetting COVID-19. Older adults and people of any age who have serious underlying medical conditions may be at higher risk for more severe illness.</center></p>\n",
    "\n",
    "- Stay home always you can, except to get medical care.\n",
    "- Avoid public transportation, ride-sharing, or taxis.\n",
    "- If you need medical attention, call ahead."
   ]
  },
  {
   "cell_type": "markdown",
   "metadata": {},
   "source": [
    "### For more information:\n",
    "\n",
    "> Go to: [World Health Organization - Coronavirus disease (COVID-19) pandemic](https://www.who.int/emergencies/diseases/novel-coronavirus-2019)"
   ]
  },
  {
   "cell_type": "markdown",
   "metadata": {},
   "source": [
    "---\n",
    "\n",
    "### About:\n",
    "\n",
    "> - 🩺🔬 Developed by: **José Henrique Roveda**\n",
    "> - 💻📨 Contact me on [LinkedIn](https://www.linkedin.com/in/jhroveda/)"
   ]
  },
  {
   "cell_type": "code",
   "execution_count": null,
   "metadata": {},
   "outputs": [],
   "source": []
  }
 ],
 "metadata": {
  "kernelspec": {
   "display_name": "Python 3",
   "language": "python",
   "name": "python3"
  },
  "language_info": {
   "codemirror_mode": {
    "name": "ipython",
    "version": 3
   },
   "file_extension": ".py",
   "mimetype": "text/x-python",
   "name": "python",
   "nbconvert_exporter": "python",
   "pygments_lexer": "ipython3",
   "version": "3.7.6"
  }
 },
 "nbformat": 4,
 "nbformat_minor": 4
}
